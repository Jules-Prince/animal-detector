{
 "cells": [
  {
   "cell_type": "markdown",
   "id": "a56af4db",
   "metadata": {},
   "source": [
    "# 1. Import librairies"
   ]
  },
  {
   "cell_type": "code",
   "execution_count": 2,
   "id": "f02d4fef",
   "metadata": {
    "tags": []
   },
   "outputs": [],
   "source": [
    "import pandas as pd\n",
    "import numpy as np\n",
    "import os\n",
    "import librosa \n",
    "import kerascnn2c\n",
    "from pathlib import Path\n",
    "import tensorflow as tf\n",
    "import copy\n",
    "import librosa.display\n",
    "import matplotlib.pyplot as plt\n",
    "import seaborn as sns\n",
    "from sklearn.preprocessing import LabelEncoder,OneHotEncoder\n",
    "from keras.models import Sequential\n",
    "import tensorflow.keras.layers as layers\n",
    "from keras.layers import Input, Conv1D, AvgPool1D, MaxPool1D, ZeroPadding1D, BatchNormalization, Flatten, Dense, Activation\n",
    "from keras.utils.np_utils import to_categorical\n",
    "from sklearn.metrics import confusion_matrix,classification_report,accuracy_score,f1_score\n",
    "#train data creator"
   ]
  },
  {
   "cell_type": "markdown",
   "id": "c4cf13e7",
   "metadata": {},
   "source": [
    "# 2. Create train_data"
   ]
  },
  {
   "cell_type": "code",
   "execution_count": 4,
   "id": "c4b8bf4e",
   "metadata": {
    "tags": []
   },
   "outputs": [
    {
     "name": "stdout",
     "output_type": "stream",
     "text": [
      "                      ID label\n",
      "0             cat_74.wav   cat\n",
      "1             cat_60.wav   cat\n",
      "2             cat_48.wav   cat\n",
      "3            cat_132.wav   cat\n",
      "4            cat_127.wav   cat\n",
      "..                   ...   ...\n",
      "205   dog_barking_84.wav   dog\n",
      "206  dog_barking_102.wav   dog\n",
      "207  dog_barking_103.wav   dog\n",
      "208   dog_barking_85.wav   dog\n",
      "209   dog_barking_52.wav   dog\n",
      "\n",
      "[210 rows x 2 columns]\n"
     ]
    }
   ],
   "source": [
    "ID=[]\n",
    "label=[]\n",
    "# assign directory\n",
    "directory = '../inputs/cats_dogs/train/'\n",
    " \n",
    "# iterate over files in\n",
    "# that directory\n",
    "\n",
    "for folder in os.listdir(directory):                               #go into the directory\n",
    "    for filename in os.listdir(directory+str(folder)):          #go in every class \n",
    "        f = os.path.join(directory+str(folder), filename)    #scan through every file in that class\n",
    "        if os.path.isfile(f):\n",
    "            ID.append(f.split('/')[-1])\n",
    "            label.append(f.split('/')[-2])\n",
    "            \n",
    "train_data=pd.DataFrame()\n",
    "train_data['ID']=ID\n",
    "train_data['label']=label\n",
    "print(train_data)"
   ]
  },
  {
   "cell_type": "code",
   "execution_count": 5,
   "id": "e43f7a61",
   "metadata": {
    "tags": []
   },
   "outputs": [
    {
     "data": {
      "image/png": "[encoded data removed]",
      "text/plain": [
       "<Figure size 640x480 with 1 Axes>"
      ]
     },
     "metadata": {},
     "output_type": "display_data"
    },
    {
     "ename": "AttributeError",
     "evalue": "module 'matplotlib' has no attribute 'pyplot'",
     "output_type": "error",
     "traceback": [
      "\u001b[0;31m---------------------------------------------------------------------------\u001b[0m",
      "\u001b[0;31mAttributeError\u001b[0m                            Traceback (most recent call last)",
      "Cell \u001b[0;32mIn[5], line 7\u001b[0m\n\u001b[1;32m      4\u001b[0m sns\u001b[38;5;241m.\u001b[39mcountplot(x\u001b[38;5;241m=\u001b[39m\u001b[38;5;124m'\u001b[39m\u001b[38;5;124mlabel\u001b[39m\u001b[38;5;124m'\u001b[39m,data\u001b[38;5;241m=\u001b[39mtrain_data)\n\u001b[1;32m      5\u001b[0m plt\u001b[38;5;241m.\u001b[39mtitle(\u001b[38;5;124m'\u001b[39m\u001b[38;5;124mcounts: \u001b[39m\u001b[38;5;130;01m\\n\u001b[39;00m\u001b[38;5;124m'\u001b[39m \u001b[38;5;241m+\u001b[39m\u001b[38;5;124m'\u001b[39m\u001b[38;5;124mdogs:\u001b[39m\u001b[38;5;124m'\u001b[39m\u001b[38;5;241m+\u001b[39m\u001b[38;5;28mstr\u001b[39m(train_data\u001b[38;5;241m.\u001b[39mlabel\u001b[38;5;241m.\u001b[39mvalue_counts()[\u001b[38;5;241m1\u001b[39m])\u001b[38;5;241m+\u001b[39m\n\u001b[1;32m      6\u001b[0m           \u001b[38;5;124m'\u001b[39m\u001b[38;5;130;01m\\n\u001b[39;00m\u001b[38;5;124m cats:\u001b[39m\u001b[38;5;124m'\u001b[39m\u001b[38;5;241m+\u001b[39m\u001b[38;5;28mstr\u001b[39m(train_data\u001b[38;5;241m.\u001b[39mlabel\u001b[38;5;241m.\u001b[39mvalue_counts()[\u001b[38;5;241m0\u001b[39m]))\n\u001b[0;32m----> 7\u001b[0m \u001b[43mplt\u001b[49m\u001b[38;5;241;43m.\u001b[39;49m\u001b[43mshow\u001b[49m\u001b[43m(\u001b[49m\u001b[43m)\u001b[49m\n",
      "File \u001b[0;32m/usr/local/Caskroom/miniforge/base/envs/ml_env/lib/python3.8/site-packages/matplotlib/pyplot.py:446\u001b[0m, in \u001b[0;36mshow\u001b[0;34m(*args, **kwargs)\u001b[0m\n\u001b[1;32m    402\u001b[0m \u001b[38;5;250m\u001b[39m\u001b[38;5;124;03m\"\"\"\u001b[39;00m\n\u001b[1;32m    403\u001b[0m \u001b[38;5;124;03mDisplay all open figures.\u001b[39;00m\n\u001b[1;32m    404\u001b[0m \n\u001b[0;32m   (...)\u001b[0m\n\u001b[1;32m    443\u001b[0m \u001b[38;5;124;03mexplicitly there.\u001b[39;00m\n\u001b[1;32m    444\u001b[0m \u001b[38;5;124;03m\"\"\"\u001b[39;00m\n\u001b[1;32m    445\u001b[0m _warn_if_gui_out_of_main_thread()\n\u001b[0;32m--> 446\u001b[0m \u001b[38;5;28;01mreturn\u001b[39;00m \u001b[43m_get_backend_mod\u001b[49m\u001b[43m(\u001b[49m\u001b[43m)\u001b[49m\u001b[38;5;241;43m.\u001b[39;49m\u001b[43mshow\u001b[49m\u001b[43m(\u001b[49m\u001b[38;5;241;43m*\u001b[39;49m\u001b[43margs\u001b[49m\u001b[43m,\u001b[49m\u001b[43m \u001b[49m\u001b[38;5;241;43m*\u001b[39;49m\u001b[38;5;241;43m*\u001b[39;49m\u001b[43mkwargs\u001b[49m\u001b[43m)\u001b[49m\n",
      "File \u001b[0;32m/usr/local/Caskroom/miniforge/base/envs/ml_env/lib/python3.8/site-packages/matplotlib_inline/backend_inline.py:99\u001b[0m, in \u001b[0;36mshow\u001b[0;34m(close, block)\u001b[0m\n\u001b[1;32m     96\u001b[0m \u001b[38;5;66;03m# only call close('all') if any to close\u001b[39;00m\n\u001b[1;32m     97\u001b[0m \u001b[38;5;66;03m# close triggers gc.collect, which can be slow\u001b[39;00m\n\u001b[1;32m     98\u001b[0m \u001b[38;5;28;01mif\u001b[39;00m close \u001b[38;5;129;01mand\u001b[39;00m Gcf\u001b[38;5;241m.\u001b[39mget_all_fig_managers():\n\u001b[0;32m---> 99\u001b[0m     \u001b[43mmatplotlib\u001b[49m\u001b[38;5;241;43m.\u001b[39;49m\u001b[43mpyplot\u001b[49m\u001b[38;5;241m.\u001b[39mclose(\u001b[38;5;124m'\u001b[39m\u001b[38;5;124mall\u001b[39m\u001b[38;5;124m'\u001b[39m)\n",
      "File \u001b[0;32m/usr/local/Caskroom/miniforge/base/envs/ml_env/lib/python3.8/site-packages/matplotlib/_api/__init__.py:226\u001b[0m, in \u001b[0;36mcaching_module_getattr.<locals>.__getattr__\u001b[0;34m(name)\u001b[0m\n\u001b[1;32m    224\u001b[0m \u001b[38;5;28;01mif\u001b[39;00m name \u001b[38;5;129;01min\u001b[39;00m props:\n\u001b[1;32m    225\u001b[0m     \u001b[38;5;28;01mreturn\u001b[39;00m props[name]\u001b[38;5;241m.\u001b[39m\u001b[38;5;21m__get__\u001b[39m(instance)\n\u001b[0;32m--> 226\u001b[0m \u001b[38;5;28;01mraise\u001b[39;00m \u001b[38;5;167;01mAttributeError\u001b[39;00m(\n\u001b[1;32m    227\u001b[0m     \u001b[38;5;124mf\u001b[39m\u001b[38;5;124m\"\u001b[39m\u001b[38;5;124mmodule \u001b[39m\u001b[38;5;132;01m{\u001b[39;00m\u001b[38;5;28mcls\u001b[39m\u001b[38;5;241m.\u001b[39m\u001b[38;5;18m__module__\u001b[39m\u001b[38;5;132;01m!r}\u001b[39;00m\u001b[38;5;124m has no attribute \u001b[39m\u001b[38;5;132;01m{\u001b[39;00mname\u001b[38;5;132;01m!r}\u001b[39;00m\u001b[38;5;124m\"\u001b[39m)\n",
      "\u001b[0;31mAttributeError\u001b[0m: module 'matplotlib' has no attribute 'pyplot'"
     ]
    },
    {
     "data": {
      "image/png": "[encoded data removed]",
      "text/plain": [
       "<Figure size 640x480 with 1 Axes>"
      ]
     },
     "metadata": {},
     "output_type": "display_data"
    },
    {
     "ename": "AttributeError",
     "evalue": "module 'matplotlib' has no attribute 'pyplot'",
     "output_type": "error",
     "traceback": [
      "\u001b[0;31m---------------------------------------------------------------------------\u001b[0m",
      "\u001b[0;31mAttributeError\u001b[0m                            Traceback (most recent call last)",
      "File \u001b[0;32m/usr/local/Caskroom/miniforge/base/envs/ml_env/lib/python3.8/site-packages/matplotlib_inline/backend_inline.py:99\u001b[0m, in \u001b[0;36mshow\u001b[0;34m(close, block)\u001b[0m\n\u001b[1;32m     96\u001b[0m \u001b[38;5;66;03m# only call close('all') if any to close\u001b[39;00m\n\u001b[1;32m     97\u001b[0m \u001b[38;5;66;03m# close triggers gc.collect, which can be slow\u001b[39;00m\n\u001b[1;32m     98\u001b[0m \u001b[38;5;28;01mif\u001b[39;00m close \u001b[38;5;129;01mand\u001b[39;00m Gcf\u001b[38;5;241m.\u001b[39mget_all_fig_managers():\n\u001b[0;32m---> 99\u001b[0m     \u001b[43mmatplotlib\u001b[49m\u001b[38;5;241;43m.\u001b[39;49m\u001b[43mpyplot\u001b[49m\u001b[38;5;241m.\u001b[39mclose(\u001b[38;5;124m'\u001b[39m\u001b[38;5;124mall\u001b[39m\u001b[38;5;124m'\u001b[39m)\n",
      "File \u001b[0;32m/usr/local/Caskroom/miniforge/base/envs/ml_env/lib/python3.8/site-packages/matplotlib/_api/__init__.py:226\u001b[0m, in \u001b[0;36mcaching_module_getattr.<locals>.__getattr__\u001b[0;34m(name)\u001b[0m\n\u001b[1;32m    224\u001b[0m \u001b[38;5;28;01mif\u001b[39;00m name \u001b[38;5;129;01min\u001b[39;00m props:\n\u001b[1;32m    225\u001b[0m     \u001b[38;5;28;01mreturn\u001b[39;00m props[name]\u001b[38;5;241m.\u001b[39m\u001b[38;5;21m__get__\u001b[39m(instance)\n\u001b[0;32m--> 226\u001b[0m \u001b[38;5;28;01mraise\u001b[39;00m \u001b[38;5;167;01mAttributeError\u001b[39;00m(\n\u001b[1;32m    227\u001b[0m     \u001b[38;5;124mf\u001b[39m\u001b[38;5;124m\"\u001b[39m\u001b[38;5;124mmodule \u001b[39m\u001b[38;5;132;01m{\u001b[39;00m\u001b[38;5;28mcls\u001b[39m\u001b[38;5;241m.\u001b[39m\u001b[38;5;18m__module__\u001b[39m\u001b[38;5;132;01m!r}\u001b[39;00m\u001b[38;5;124m has no attribute \u001b[39m\u001b[38;5;132;01m{\u001b[39;00mname\u001b[38;5;132;01m!r}\u001b[39;00m\u001b[38;5;124m\"\u001b[39m)\n",
      "\u001b[0;31mAttributeError\u001b[0m: module 'matplotlib' has no attribute 'pyplot'"
     ]
    }
   ],
   "source": [
    "#HERE WE JUST SHOWING THE AMOUNT OF DATAS 86 DOGS & 125 CATS\n",
    "plt.figure(figsize=(8,6),dpi=80)\n",
    "sns.set_theme(style=\"darkgrid\")\n",
    "sns.countplot(x='label',data=train_data)\n",
    "plt.title('counts: \\n' +'dogs:'+str(train_data.label.value_counts()[1])+\n",
    "          '\\n cats:'+str(train_data.label.value_counts()[0]))\n",
    "plt.show()"
   ]
  },
  {
   "cell_type": "markdown",
   "id": "e102767b",
   "metadata": {},
   "source": [
    "# 3. Create test_data"
   ]
  },
  {
   "cell_type": "code",
   "execution_count": 7,
   "id": "788ec8fa",
   "metadata": {
    "tags": []
   },
   "outputs": [
    {
     "name": "stdout",
     "output_type": "stream",
     "text": [
      "                    ID label\n",
      "0          cat_126.wav  cats\n",
      "1          cat_133.wav  cats\n",
      "2           cat_61.wav  cats\n",
      "3           cat_75.wav  cats\n",
      "4           cat_88.wav  cats\n",
      "..                 ...   ...\n",
      "62  dog_barking_44.wav  dogs\n",
      "63  dog_barking_45.wav  dogs\n",
      "64  dog_barking_90.wav  dogs\n",
      "65  dog_barking_91.wav  dogs\n",
      "66  dog_barking_46.wav  dogs\n",
      "\n",
      "[67 rows x 2 columns]\n"
     ]
    }
   ],
   "source": [
    "ID=[]\n",
    "label=[]\n",
    "# assign directory\n",
    "directory = '../inputs/cats_dogs/test/'\n",
    " \n",
    "# iterate over files in\n",
    "# that directory\n",
    "\n",
    "for folder in os.listdir(directory):\n",
    "    for filename in os.listdir(directory+str(folder)):\n",
    "        f = os.path.join(directory+str(folder), filename)\n",
    "        if os.path.isfile(f):\n",
    "            ID.append(f.split('/')[-1])\n",
    "            label.append(f.split('/')[-2])\n",
    "            \n",
    "# WE CHANGE LABELS NAMES FROM TEST TO DOG            \n",
    "for i in range(len(label)):\n",
    "    if(label[i]=='test'):\n",
    "        label[i]='dogs'\n",
    "        \n",
    "test_data=pd.DataFrame()\n",
    "test_data['ID']=ID\n",
    "test_data['label']=label\n",
    "print(test_data)"
   ]
  },
  {
   "cell_type": "markdown",
   "id": "19a8a22a",
   "metadata": {},
   "source": [
    "# 4. Feature extraction of audio files using MFCCs"
   ]
  },
  {
   "cell_type": "markdown",
   "id": "c7e28631",
   "metadata": {},
   "source": [
    "This function will access the audio files directly from the dataset and automatically store the features for each file in train set"
   ]
  },
  {
   "cell_type": "markdown",
   "id": "82b7a987",
   "metadata": {},
   "source": [
    "In librosa.load function if we dont write sr=None, it will upsample every audio file to 22Khz which we dont want here."
   ]
  },
  {
   "cell_type": "markdown",
   "id": "ce52339b",
   "metadata": {},
   "source": [
    "We are using 100 Mel freq cepstrum coeff. for each audio file."
   ]
  },
  {
   "cell_type": "code",
   "execution_count": 8,
   "id": "31069bfd",
   "metadata": {
    "tags": []
   },
   "outputs": [],
   "source": [
    "def extract_features(directory):\n",
    "    features=[]\n",
    "    ID=[]\n",
    "    for folder in os.listdir(directory):\n",
    "        for filename in os.listdir(directory+str(folder)):\n",
    "            f = os.path.join(directory+str(folder), filename)\n",
    "            \n",
    "            if os.path.isfile(f):\n",
    "                y,sr=librosa.load(f, res_type='kaiser_fast',sr=None)\n",
    "                mfccs = np.mean(librosa.feature.mfcc(y=y, sr=sr, n_mfcc=100).T, axis=0)\n",
    "    \n",
    "                features.append(mfccs)\n",
    "                ID.append(f.split('/')[-1])\n",
    "    return [ID, features]"
   ]
  },
  {
   "cell_type": "markdown",
   "id": "f168938f",
   "metadata": {},
   "source": [
    "call on train data set"
   ]
  },
  {
   "cell_type": "code",
   "execution_count": 10,
   "id": "3b383a70",
   "metadata": {
    "tags": []
   },
   "outputs": [],
   "source": [
    "ID, features_train=extract_features('../inputs/cats_dogs/train/')\n",
    "ID,features_test=extract_features('../inputs/cats_dogs/test/')"
   ]
  },
  {
   "cell_type": "code",
   "execution_count": null,
   "id": "2ffab4a2",
   "metadata": {},
   "outputs": [],
   "source": [
    "Création des donnée de train et de test"
   ]
  },
  {
   "cell_type": "code",
   "execution_count": null,
   "id": "c1df0a99",
   "metadata": {},
   "outputs": [],
   "source": [
    "X_train=np.array(features_train)\n",
    "X_test=np.array(features_test)\n",
    "Y_train=train_data.label\n",
    "Y_test=test_data.label"
   ]
  },
  {
   "cell_type": "code",
   "execution_count": null,
   "id": "19e4dac9",
   "metadata": {},
   "outputs": [],
   "source": [
    "le=LabelEncoder()\n",
    "\n",
    "temp=le.fit_transform(Y_train)\n",
    "Y_train=temp.reshape(-1,1)\n",
    "\n",
    "temp=le.fit_transform(Y_test)\n",
    "Y_test=temp.reshape(-1,1)"
   ]
  },
  {
   "cell_type": "code",
   "execution_count": 25,
   "id": "79f08328",
   "metadata": {},
   "outputs": [],
   "source": [
    "model=tf.keras.Sequential()\n",
    "model.add(layers.Input(shape=(100, 1)))\n",
    "model.add(layers.MaxPool1D(pool_size=4, strides=3, padding='valid'))\n",
    "model.add(layers.Conv1D(filters=64, kernel_size=8, activation='relu'))\n",
    "model.add(layers.Flatten())\n",
    "model.add(layers.Dense(units=1))\n",
    "model.add(layers.Dense(1,activation='sigmoid'))"
   ]
  },
  {
   "cell_type": "code",
   "execution_count": 26,
   "id": "3a670ea3",
   "metadata": {},
   "outputs": [],
   "source": [
    "model.compile(optimizer='adam',loss='binary_crossentropy',metrics=['accuracy'])"
   ]
  },
  {
   "cell_type": "code",
   "execution_count": 27,
   "id": "de3066c6",
   "metadata": {},
   "outputs": [
    {
     "name": "stdout",
     "output_type": "stream",
     "text": [
      "Epoch 1/100\n",
      "7/7 [==============================] - 0s 14ms/step - loss: 0.5132 - accuracy: 0.7381\n",
      "Epoch 2/100\n",
      "7/7 [==============================] - 0s 9ms/step - loss: 0.4048 - accuracy: 0.8571\n",
      "Epoch 3/100\n",
      "7/7 [==============================] - 0s 8ms/step - loss: 0.3793 - accuracy: 0.8524\n",
      "Epoch 4/100\n",
      "7/7 [==============================] - 0s 8ms/step - loss: 0.3801 - accuracy: 0.8619\n",
      "Epoch 5/100\n",
      "7/7 [==============================] - 0s 7ms/step - loss: 0.3293 - accuracy: 0.8857\n",
      "Epoch 6/100\n",
      "7/7 [==============================] - 0s 6ms/step - loss: 0.3460 - accuracy: 0.8667\n",
      "Epoch 7/100\n",
      "7/7 [==============================] - 0s 7ms/step - loss: 0.3084 - accuracy: 0.8857\n",
      "Epoch 8/100\n",
      "7/7 [==============================] - 0s 6ms/step - loss: 0.3119 - accuracy: 0.8810\n",
      "Epoch 9/100\n",
      "7/7 [==============================] - 0s 7ms/step - loss: 0.3041 - accuracy: 0.8762\n",
      "Epoch 10/100\n",
      "7/7 [==============================] - 0s 8ms/step - loss: 0.2855 - accuracy: 0.9048\n",
      "Epoch 11/100\n",
      "7/7 [==============================] - 0s 7ms/step - loss: 0.2770 - accuracy: 0.8952\n",
      "Epoch 12/100\n",
      "7/7 [==============================] - 0s 7ms/step - loss: 0.2653 - accuracy: 0.9000\n",
      "Epoch 13/100\n",
      "7/7 [==============================] - 0s 7ms/step - loss: 0.2591 - accuracy: 0.9095\n",
      "Epoch 14/100\n",
      "7/7 [==============================] - 0s 8ms/step - loss: 0.2569 - accuracy: 0.9048\n",
      "Epoch 15/100\n",
      "7/7 [==============================] - 0s 6ms/step - loss: 0.2452 - accuracy: 0.9000\n",
      "Epoch 16/100\n",
      "7/7 [==============================] - 0s 7ms/step - loss: 0.2384 - accuracy: 0.9048\n",
      "Epoch 17/100\n",
      "7/7 [==============================] - 0s 8ms/step - loss: 0.2312 - accuracy: 0.9095\n",
      "Epoch 18/100\n",
      "7/7 [==============================] - 0s 6ms/step - loss: 0.2282 - accuracy: 0.9048\n",
      "Epoch 19/100\n",
      "7/7 [==============================] - 0s 7ms/step - loss: 0.2243 - accuracy: 0.9143\n",
      "Epoch 20/100\n",
      "7/7 [==============================] - 0s 8ms/step - loss: 0.2319 - accuracy: 0.9000\n",
      "Epoch 21/100\n",
      "7/7 [==============================] - 0s 7ms/step - loss: 0.2088 - accuracy: 0.9143\n",
      "Epoch 22/100\n",
      "7/7 [==============================] - 0s 6ms/step - loss: 0.2047 - accuracy: 0.9238\n",
      "Epoch 23/100\n",
      "7/7 [==============================] - 0s 10ms/step - loss: 0.2029 - accuracy: 0.9333\n",
      "Epoch 24/100\n",
      "7/7 [==============================] - 0s 8ms/step - loss: 0.2045 - accuracy: 0.9143\n",
      "Epoch 25/100\n",
      "7/7 [==============================] - 0s 7ms/step - loss: 0.1831 - accuracy: 0.9381\n",
      "Epoch 26/100\n",
      "7/7 [==============================] - 0s 7ms/step - loss: 0.1847 - accuracy: 0.9381\n",
      "Epoch 27/100\n",
      "7/7 [==============================] - 0s 8ms/step - loss: 0.1786 - accuracy: 0.9238\n",
      "Epoch 28/100\n",
      "7/7 [==============================] - 0s 8ms/step - loss: 0.1718 - accuracy: 0.9381\n",
      "Epoch 29/100\n",
      "7/7 [==============================] - 0s 7ms/step - loss: 0.1689 - accuracy: 0.9429\n",
      "Epoch 30/100\n",
      "7/7 [==============================] - 0s 8ms/step - loss: 0.1683 - accuracy: 0.9381\n",
      "Epoch 31/100\n",
      "7/7 [==============================] - 0s 8ms/step - loss: 0.1565 - accuracy: 0.9429\n",
      "Epoch 32/100\n",
      "7/7 [==============================] - 0s 7ms/step - loss: 0.1549 - accuracy: 0.9381\n",
      "Epoch 33/100\n",
      "7/7 [==============================] - 0s 7ms/step - loss: 0.1503 - accuracy: 0.9429\n",
      "Epoch 34/100\n",
      "7/7 [==============================] - 0s 7ms/step - loss: 0.1454 - accuracy: 0.9524\n",
      "Epoch 35/100\n",
      "7/7 [==============================] - 0s 7ms/step - loss: 0.1420 - accuracy: 0.9524\n",
      "Epoch 36/100\n",
      "7/7 [==============================] - 0s 7ms/step - loss: 0.1376 - accuracy: 0.9476\n",
      "Epoch 37/100\n",
      "7/7 [==============================] - 0s 7ms/step - loss: 0.1336 - accuracy: 0.9524\n",
      "Epoch 38/100\n",
      "7/7 [==============================] - 0s 8ms/step - loss: 0.1298 - accuracy: 0.9524\n",
      "Epoch 39/100\n",
      "7/7 [==============================] - 0s 7ms/step - loss: 0.1277 - accuracy: 0.9524\n",
      "Epoch 40/100\n",
      "7/7 [==============================] - 0s 7ms/step - loss: 0.1248 - accuracy: 0.9524\n",
      "Epoch 41/100\n",
      "7/7 [==============================] - 0s 7ms/step - loss: 0.1187 - accuracy: 0.9667\n",
      "Epoch 42/100\n",
      "7/7 [==============================] - 0s 8ms/step - loss: 0.1172 - accuracy: 0.9571\n",
      "Epoch 43/100\n",
      "7/7 [==============================] - 0s 8ms/step - loss: 0.1117 - accuracy: 0.9619\n",
      "Epoch 44/100\n",
      "7/7 [==============================] - 0s 6ms/step - loss: 0.1099 - accuracy: 0.9667\n",
      "Epoch 45/100\n",
      "7/7 [==============================] - 0s 7ms/step - loss: 0.1078 - accuracy: 0.9619\n",
      "Epoch 46/100\n",
      "7/7 [==============================] - 0s 7ms/step - loss: 0.1025 - accuracy: 0.9714\n",
      "Epoch 47/100\n",
      "7/7 [==============================] - 0s 8ms/step - loss: 0.1007 - accuracy: 0.9619\n",
      "Epoch 48/100\n",
      "7/7 [==============================] - 0s 9ms/step - loss: 0.0968 - accuracy: 0.9619\n",
      "Epoch 49/100\n",
      "7/7 [==============================] - 0s 9ms/step - loss: 0.0977 - accuracy: 0.9762\n",
      "Epoch 50/100\n",
      "7/7 [==============================] - 0s 7ms/step - loss: 0.0912 - accuracy: 0.9714\n",
      "Epoch 51/100\n",
      "7/7 [==============================] - 0s 7ms/step - loss: 0.0887 - accuracy: 0.9762\n",
      "Epoch 52/100\n",
      "7/7 [==============================] - 0s 7ms/step - loss: 0.0861 - accuracy: 0.9762\n",
      "Epoch 53/100\n",
      "7/7 [==============================] - 0s 9ms/step - loss: 0.0842 - accuracy: 0.9714\n",
      "Epoch 54/100\n",
      "7/7 [==============================] - 0s 6ms/step - loss: 0.0802 - accuracy: 0.9810\n",
      "Epoch 55/100\n",
      "7/7 [==============================] - 0s 6ms/step - loss: 0.0806 - accuracy: 0.9810\n",
      "Epoch 56/100\n",
      "7/7 [==============================] - 0s 6ms/step - loss: 0.0815 - accuracy: 0.9714\n",
      "Epoch 57/100\n",
      "7/7 [==============================] - 0s 6ms/step - loss: 0.0717 - accuracy: 0.9905\n",
      "Epoch 58/100\n",
      "7/7 [==============================] - 0s 6ms/step - loss: 0.0726 - accuracy: 0.9905\n",
      "Epoch 59/100\n",
      "7/7 [==============================] - 0s 6ms/step - loss: 0.0707 - accuracy: 0.9810\n",
      "Epoch 60/100\n",
      "7/7 [==============================] - 0s 6ms/step - loss: 0.0671 - accuracy: 0.9905\n",
      "Epoch 61/100\n",
      "7/7 [==============================] - 0s 6ms/step - loss: 0.0699 - accuracy: 0.9810\n",
      "Epoch 62/100\n",
      "7/7 [==============================] - 0s 6ms/step - loss: 0.0627 - accuracy: 0.9905\n",
      "Epoch 63/100\n",
      "7/7 [==============================] - 0s 5ms/step - loss: 0.0634 - accuracy: 0.9952\n",
      "Epoch 64/100\n",
      "7/7 [==============================] - 0s 6ms/step - loss: 0.0604 - accuracy: 0.9905\n",
      "Epoch 65/100\n",
      "7/7 [==============================] - 0s 6ms/step - loss: 0.0599 - accuracy: 0.9905\n",
      "Epoch 66/100\n",
      "7/7 [==============================] - 0s 6ms/step - loss: 0.0561 - accuracy: 0.9952\n",
      "Epoch 67/100\n",
      "7/7 [==============================] - 0s 6ms/step - loss: 0.0541 - accuracy: 0.9905\n",
      "Epoch 68/100\n",
      "7/7 [==============================] - 0s 5ms/step - loss: 0.0537 - accuracy: 0.9952\n",
      "Epoch 69/100\n",
      "7/7 [==============================] - 0s 5ms/step - loss: 0.0505 - accuracy: 0.9905\n",
      "Epoch 70/100\n",
      "7/7 [==============================] - 0s 6ms/step - loss: 0.0499 - accuracy: 0.9905\n",
      "Epoch 71/100\n",
      "7/7 [==============================] - 0s 5ms/step - loss: 0.0466 - accuracy: 0.9952\n",
      "Epoch 72/100\n",
      "7/7 [==============================] - 0s 6ms/step - loss: 0.0458 - accuracy: 0.9952\n",
      "Epoch 73/100\n",
      "7/7 [==============================] - 0s 7ms/step - loss: 0.0445 - accuracy: 0.9952\n",
      "Epoch 74/100\n",
      "7/7 [==============================] - 0s 6ms/step - loss: 0.0468 - accuracy: 0.9952\n",
      "Epoch 75/100\n",
      "7/7 [==============================] - 0s 7ms/step - loss: 0.0430 - accuracy: 0.9952\n",
      "Epoch 76/100\n",
      "7/7 [==============================] - 0s 7ms/step - loss: 0.0406 - accuracy: 0.9952\n",
      "Epoch 77/100\n",
      "7/7 [==============================] - 0s 7ms/step - loss: 0.0398 - accuracy: 0.9952\n",
      "Epoch 78/100\n",
      "7/7 [==============================] - 0s 5ms/step - loss: 0.0378 - accuracy: 0.9952\n",
      "Epoch 79/100\n",
      "7/7 [==============================] - 0s 8ms/step - loss: 0.0364 - accuracy: 0.9952\n",
      "Epoch 80/100\n",
      "7/7 [==============================] - 0s 6ms/step - loss: 0.0352 - accuracy: 0.9952\n",
      "Epoch 81/100\n",
      "7/7 [==============================] - 0s 6ms/step - loss: 0.0368 - accuracy: 0.9952\n",
      "Epoch 82/100\n",
      "7/7 [==============================] - 0s 6ms/step - loss: 0.0333 - accuracy: 1.0000\n",
      "Epoch 83/100\n",
      "7/7 [==============================] - 0s 5ms/step - loss: 0.0320 - accuracy: 1.0000\n",
      "Epoch 84/100\n"
     ]
    },
    {
     "name": "stdout",
     "output_type": "stream",
     "text": [
      "7/7 [==============================] - 0s 6ms/step - loss: 0.0312 - accuracy: 0.9952\n",
      "Epoch 85/100\n",
      "7/7 [==============================] - 0s 6ms/step - loss: 0.0306 - accuracy: 0.9952\n",
      "Epoch 86/100\n",
      "7/7 [==============================] - 0s 5ms/step - loss: 0.0296 - accuracy: 1.0000\n",
      "Epoch 87/100\n",
      "7/7 [==============================] - 0s 7ms/step - loss: 0.0299 - accuracy: 0.9952\n",
      "Epoch 88/100\n",
      "7/7 [==============================] - 0s 8ms/step - loss: 0.0278 - accuracy: 1.0000\n",
      "Epoch 89/100\n",
      "7/7 [==============================] - 0s 7ms/step - loss: 0.0268 - accuracy: 1.0000\n",
      "Epoch 90/100\n",
      "7/7 [==============================] - 0s 7ms/step - loss: 0.0285 - accuracy: 0.9952\n",
      "Epoch 91/100\n",
      "7/7 [==============================] - 0s 6ms/step - loss: 0.0254 - accuracy: 1.0000\n",
      "Epoch 92/100\n",
      "7/7 [==============================] - 0s 7ms/step - loss: 0.0248 - accuracy: 1.0000\n",
      "Epoch 93/100\n",
      "7/7 [==============================] - 0s 7ms/step - loss: 0.0240 - accuracy: 1.0000\n",
      "Epoch 94/100\n",
      "7/7 [==============================] - 0s 7ms/step - loss: 0.0238 - accuracy: 1.0000\n",
      "Epoch 95/100\n",
      "7/7 [==============================] - 0s 5ms/step - loss: 0.0234 - accuracy: 1.0000\n",
      "Epoch 96/100\n",
      "7/7 [==============================] - 0s 5ms/step - loss: 0.0216 - accuracy: 1.0000\n",
      "Epoch 97/100\n",
      "7/7 [==============================] - 0s 6ms/step - loss: 0.0214 - accuracy: 1.0000\n",
      "Epoch 98/100\n",
      "7/7 [==============================] - 0s 5ms/step - loss: 0.0201 - accuracy: 1.0000\n",
      "Epoch 99/100\n",
      "7/7 [==============================] - 0s 6ms/step - loss: 0.0197 - accuracy: 1.0000\n",
      "Epoch 100/100\n",
      "7/7 [==============================] - 0s 6ms/step - loss: 0.0190 - accuracy: 1.0000\n"
     ]
    }
   ],
   "source": [
    "hist=model.fit(X_train,Y_train,epochs=100)"
   ]
  },
  {
   "cell_type": "code",
   "execution_count": 28,
   "id": "f66d61ea",
   "metadata": {},
   "outputs": [
    {
     "name": "stdout",
     "output_type": "stream",
     "text": [
      "———————————————————————————————————————————————————————————————————————————————————————————————————————\n",
      "Inputs                           | Layer                            | Outputs                         \n",
      "———————————————————————————————————————————————————————————————————————————————————————————————————————\n",
      "                                 | input_5                          | max_pooling1d_6                 \n",
      "-------------------------------------------------------------------------------------------------------\n",
      "input_5                          | max_pooling1d_6                  | conv1d_6                        \n",
      "-------------------------------------------------------------------------------------------------------\n",
      "max_pooling1d_6                  | conv1d_6                         | flatten_2                       \n",
      "-------------------------------------------------------------------------------------------------------\n",
      "conv1d_6                         | flatten_2                        | dense_4                         \n",
      "-------------------------------------------------------------------------------------------------------\n",
      "flatten_2                        | dense_4                          |                                 \n",
      "-------------------------------------------------------------------------------------------------------\n",
      "\n",
      "After optimization:\n",
      "———————————————————————————————————————————————————————————————————————————————————————————————————————\n",
      "Inputs                           | Layer                            | Outputs                         \n",
      "———————————————————————————————————————————————————————————————————————————————————————————————————————\n",
      "                                 | input_5                          | max_pooling1d_6                 \n",
      "-------------------------------------------------------------------------------------------------------\n",
      "input_5                          | max_pooling1d_6                  | conv1d_6                        \n",
      "-------------------------------------------------------------------------------------------------------\n",
      "max_pooling1d_6                  | conv1d_6                         | flatten_2                       \n",
      "-------------------------------------------------------------------------------------------------------\n",
      "conv1d_6                         | flatten_2                        | dense_4                         \n",
      "-------------------------------------------------------------------------------------------------------\n",
      "flatten_2                        | dense_4                          |                                 \n",
      "-------------------------------------------------------------------------------------------------------\n",
      "\n"
     ]
    }
   ],
   "source": [
    "model.save('cat_dogs.h5')\n",
    "\n",
    "model = tf.keras.Model(model.input, model.layers[-2].output, name=model.name)\n",
    "\n",
    "res = kerascnn2c.Converter(output_path=Path('gsc_output_fixed'),\n",
    "                           fixed_point=9, # Number of bits for the fractional part, Q7.9 format\n",
    "                           number_type='int16_t', # Data type for weights/activations (16 bits quantization)\n",
    "                           long_number_type='int32_t', # Data type for intermediate results\n",
    "                           number_min=-(2**15), # Minimum value for 16-bit signed integers\n",
    "                           number_max=(2**15)-1 # Maximum value for 16-bit signed integers\n",
    "                          ).convert_model(copy.deepcopy(model))\n",
    "with open('gsc_model_fixed.h', 'w') as f:\n",
    "    f.write(res)"
   ]
  },
  {
   "cell_type": "code",
   "execution_count": 29,
   "id": "722105ee",
   "metadata": {
    "scrolled": true,
    "tags": []
   },
   "outputs": [
    {
     "name": "stdout",
     "output_type": "stream",
     "text": [
      "Model: \"sequential_4\"\n",
      "_________________________________________________________________\n",
      " Layer (type)                Output Shape              Param #   \n",
      "=================================================================\n",
      " input_5 (InputLayer)        [(None, 100, 1)]          0         \n",
      "                                                                 \n",
      " max_pooling1d_6 (MaxPooling  (None, 33, 1)            0         \n",
      " 1D)                                                             \n",
      "                                                                 \n",
      " conv1d_6 (Conv1D)           (None, 26, 64)            576       \n",
      "                                                                 \n",
      " flatten_2 (Flatten)         (None, 1664)              0         \n",
      "                                                                 \n",
      " dense_4 (Dense)             (None, 1)                 1665      \n",
      "                                                                 \n",
      "=================================================================\n",
      "Total params: 2,241\n",
      "Trainable params: 2,241\n",
      "Non-trainable params: 0\n",
      "_________________________________________________________________\n",
      "None\n"
     ]
    }
   ],
   "source": [
    "print(model.summary())"
   ]
  },
  {
   "cell_type": "code",
   "execution_count": 12,
   "id": "45d4c705-7630-4aef-97d4-43d58b111b19",
   "metadata": {
    "tags": []
   },
   "outputs": [
    {
     "data": {
      "text/plain": [
       "(100,)"
      ]
     },
     "execution_count": 12,
     "metadata": {},
     "output_type": "execute_result"
    }
   ],
   "source": [
    "X_train[0].shape"
   ]
  },
  {
   "cell_type": "code",
   "execution_count": 30,
   "id": "8a2ec23e",
   "metadata": {
    "tags": []
   },
   "outputs": [
    {
     "name": "stdout",
     "output_type": "stream",
     "text": [
      "clang: \u001b[0;1;35mwarning: \u001b[0m\u001b[1mtreating 'c' input as 'c++' when in C++ mode, this behavior is deprecated [-Wdeprecated]\u001b[0m\n",
      "In file included from gsc_output_fixed/model.c:11:\n",
      "\u001b[1mgsc_output_fixed/number.h:54:22: \u001b[0m\u001b[0;1;35mwarning: \u001b[0m\u001b[1mno newline at end of file [-Wnewline-eof]\u001b[0m\n",
      "#endif //__NUMBER_H__\n",
      "\u001b[0;1;32m                     ^\n",
      "\u001b[0mIn file included from gsc_output_fixed/model.c:12:\n",
      "\u001b[1mgsc_output_fixed/model.h:26:20: \u001b[0m\u001b[0;1;35mwarning: \u001b[0m\u001b[1mno newline at end of file [-Wnewline-eof]\u001b[0m\n",
      "#endif//__MODEL_H__\n",
      "\u001b[0;1;32m                   ^\n",
      "\u001b[0mIn file included from gsc_output_fixed/model.c:15:\n",
      "\u001b[1mgsc_output_fixed/max_pooling1d_6.c:57:25: \u001b[0m\u001b[0;1;35mwarning: \u001b[0m\u001b[1mno newline at end of file [-Wnewline-eof]\u001b[0m\n",
      "#undef ACTIVATION_LINEAR\n",
      "\u001b[0;1;32m                        ^\n",
      "\u001b[0mIn file included from gsc_output_fixed/model.c:16:\n",
      "\u001b[1mgsc_output_fixed/conv1d_6.c:89:23: \u001b[0m\u001b[0;1;35mwarning: \u001b[0m\u001b[1mno newline at end of file [-Wnewline-eof]\u001b[0m\n",
      "#undef ACTIVATION_RELU\n",
      "\u001b[0;1;32m                      ^\n",
      "\u001b[0mIn file included from gsc_output_fixed/model.c:17:\n",
      "\u001b[1mgsc_output_fixed/weights/conv1d_6.c:151:24: \u001b[0m\u001b[0;1;35mwarning: \u001b[0m\u001b[1mno newline at end of file [-Wnewline-eof]\u001b[0m\n",
      "#undef CONV_KERNEL_SIZE\n",
      "\u001b[0;1;32m                       ^\n",
      "\u001b[0mIn file included from gsc_output_fixed/model.c:19:\n",
      "\u001b[1mgsc_output_fixed/dense_4.c:57:25: \u001b[0m\u001b[0;1;35mwarning: \u001b[0m\u001b[1mno newline at end of file [-Wnewline-eof]\u001b[0m\n",
      "#undef ACTIVATION_LINEAR\n",
      "\u001b[0;1;32m                        ^\n",
      "\u001b[0mIn file included from gsc_output_fixed/model.c:20:\n",
      "\u001b[1mgsc_output_fixed/weights/dense_4.c:22:16: \u001b[0m\u001b[0;1;35mwarning: \u001b[0m\u001b[1mno newline at end of file [-Wnewline-eof]\u001b[0m\n",
      "#undef FC_UNITS\n",
      "\u001b[0;1;32m               ^\n",
      "\u001b[0m\u001b[1mgsc_output_fixed/model.c:68:18: \u001b[0m\u001b[0;1;35mwarning: \u001b[0m\u001b[1mexpression result unused [-Wunused-value]\u001b[0m\n",
      "    activations2.conv1d_6_output,\n",
      "\u001b[0;1;32m    ~~~~~~~~~~~~ ^~~~~~~~~~~~~~~\n",
      "\u001b[0m\u001b[1mgsc_output_fixed/model.c:69:18: \u001b[0m\u001b[0;1;35mwarning: \u001b[0m\u001b[1mexpression result unused [-Wunused-value]\u001b[0m\n",
      "    activations2.flatten_2_output\n",
      "\u001b[0;1;32m    ~~~~~~~~~~~~ ^~~~~~~~~~~~~~~~\n",
      "\u001b[0m9 warnings generated.\n",
      "In file included from main.cpp:9:\n",
      "In file included from gsc_output_fixed/model.h:14:\n",
      "\u001b[1mgsc_output_fixed/number.h:54:22: \u001b[0m\u001b[0;1;35mwarning: \u001b[0m\u001b[1mno newline at end of file [-Wnewline-eof]\u001b[0m\n",
      "#endif //__NUMBER_H__\n",
      "\u001b[0;1;32m                     ^\n",
      "\u001b[0mIn file included from main.cpp:9:\n",
      "\u001b[1mgsc_output_fixed/model.h:26:20: \u001b[0m\u001b[0;1;35mwarning: \u001b[0m\u001b[1mno newline at end of file [-Wnewline-eof]\u001b[0m\n",
      "#endif//__MODEL_H__\n",
      "\u001b[0;1;32m                   ^\n",
      "\u001b[0m\u001b[1mmain.cpp:12:54: \u001b[0m\u001b[0;1;31merror: \u001b[0m\u001b[1mexpected expression\u001b[0m\n",
      "std::vector<std::array<float, N>> readInputsFromFile(const char *filename) {\n",
      "\u001b[0;1;32m                                                     ^\n",
      "\u001b[0m\u001b[1mmain.cpp:44:52: \u001b[0m\u001b[0;1;31merror: \u001b[0m\u001b[1muse of undeclared identifier 'InputDims'\u001b[0m\n",
      "float evaluate(const std::vector<std::array<float, InputDims>> &inputs, const std::vector<std::array<float, OutputDims>> &labels) {\n",
      "\u001b[0;1;32m                                                   ^\n",
      "\u001b[0m\u001b[1mmain.cpp:44:65: \u001b[0m\u001b[0;1;31merror: \u001b[0m\u001b[1muse of undeclared identifier 'inputs'\u001b[0m\n",
      "float evaluate(const std::vector<std::array<float, InputDims>> &inputs, const std::vector<std::array<float, OutputDims>> &labels) {\n",
      "\u001b[0;1;32m                                                                ^\n",
      "\u001b[0m\u001b[1mmain.cpp:44:129: \u001b[0m\u001b[0;1;31merror: \u001b[0m\u001b[1mexpected '>'\u001b[0m\n",
      "float evaluate(const std::vector<std::array<float, InputDims>> &inputs, const std::vector<std::array<float, OutputDims>> &labels) {\n",
      "\u001b[0;1;32m                                                                                                                                ^\n",
      "\u001b[0m\u001b[1mmain.cpp:44:44: \u001b[0m\u001b[0;1;30mnote: \u001b[0mto match this '<'\u001b[0m\n",
      "float evaluate(const std::vector<std::array<float, InputDims>> &inputs, const std::vector<std::array<float, OutputDims>> &labels) {\n",
      "\u001b[0;1;32m                                           ^\n",
      "\u001b[0m\u001b[1mmain.cpp:44:129: \u001b[0m\u001b[0;1;31merror: \u001b[0m\u001b[1mexpected a type\u001b[0m\n",
      "float evaluate(const std::vector<std::array<float, InputDims>> &inputs, const std::vector<std::array<float, OutputDims>> &labels) {\n",
      "\u001b[0;1;32m                                                                                                                                ^\n",
      "\u001b[0m\u001b[1mmain.cpp:77:2: \u001b[0m\u001b[0;1;31merror: \u001b[0m\u001b[1mexpected '>'\u001b[0m\n",
      "}\n",
      "\u001b[0;1;32m ^\n",
      "\u001b[0m\u001b[1mmain.cpp:44:33: \u001b[0m\u001b[0;1;30mnote: \u001b[0mto match this '<'\u001b[0m\n",
      "float evaluate(const std::vector<std::array<float, InputDims>> &inputs, const std::vector<std::array<float, OutputDims>> &labels) {\n",
      "\u001b[0;1;32m                                ^\n",
      "\u001b[0m\u001b[1mmain.cpp:77:2: \u001b[0m\u001b[0;1;31merror: \u001b[0m\u001b[1mexpected ')'\u001b[0m\n",
      "}\n",
      "\u001b[0;1;32m ^\n",
      "\u001b[0m\u001b[1mmain.cpp:44:15: \u001b[0m\u001b[0;1;30mnote: \u001b[0mto match this '('\u001b[0m\n",
      "float evaluate(const std::vector<std::array<float, InputDims>> &inputs, const std::vector<std::array<float, OutputDims>> &labels) {\n",
      "\u001b[0;1;32m              ^\n",
      "\u001b[0m\u001b[1mmain.cpp:77:2: \u001b[0m\u001b[0;1;31merror: \u001b[0m\u001b[1mexpected ';' at end of declaration\u001b[0m\n",
      "}\n",
      "\u001b[0;1;32m ^\n",
      "\u001b[0m\u001b[0;32m ;\n",
      "\u001b[0m2 warnings and 8 errors generated.\n"
     ]
    }
   ],
   "source": [
    "!g++ -Wall -Wextra -pedantic -Ofast -o gsc_fixed -Igsc_output_fixed/ gsc_output_fixed/model.c main.cpp "
   ]
  },
  {
   "cell_type": "code",
   "execution_count": 31,
   "id": "8c892e1d",
   "metadata": {
    "tags": []
   },
   "outputs": [
    {
     "name": "stdout",
     "output_type": "stream",
     "text": [
      "zsh:1: no such file or directory: ./gsc_fixed\r\n"
     ]
    }
   ],
   "source": [
    "!./gsc_fixed x_test_gsc_250.csv y_test_gsc_250.csv"
   ]
  },
  {
   "cell_type": "code",
   "execution_count": 23,
   "id": "5b1d6282-8784-4db3-9e8b-009b591d040e",
   "metadata": {
    "tags": []
   },
   "outputs": [
    {
     "name": "stdout",
     "output_type": "stream",
     "text": [
      "3/3 [==============================] - 0s 15ms/step\n",
      "              precision    recall  f1-score   support\n",
      "\n",
      "           0       0.26      0.21      0.23        39\n",
      "           1       0.14      0.18      0.16        28\n",
      "\n",
      "    accuracy                           0.19        67\n",
      "   macro avg       0.20      0.19      0.19        67\n",
      "weighted avg       0.21      0.19      0.20        67\n",
      "\n"
     ]
    }
   ],
   "source": [
    "Y_pred=model.predict(X_test)\n",
    "Y_pred=(Y_pred>0.5)*1\n",
    "print(classification_report(Y_test,Y_pred))"
   ]
  },
  {
   "cell_type": "code",
   "execution_count": 51,
   "id": "4df321d1-db15-4cec-b5d2-050e245567e1",
   "metadata": {
    "tags": []
   },
   "outputs": [
    {
     "ename": "AttributeError",
     "evalue": "module 'matplotlib' has no attribute 'axes'",
     "output_type": "error",
     "traceback": [
      "\u001b[0;31m---------------------------------------------------------------------------\u001b[0m",
      "\u001b[0;31mAttributeError\u001b[0m                            Traceback (most recent call last)",
      "Cell \u001b[0;32mIn[51], line 2\u001b[0m\n\u001b[1;32m      1\u001b[0m plt\u001b[38;5;241m.\u001b[39mfigure(figsize\u001b[38;5;241m=\u001b[39m(\u001b[38;5;241m10\u001b[39m,\u001b[38;5;241m8\u001b[39m),dpi\u001b[38;5;241m=\u001b[39m\u001b[38;5;241m80\u001b[39m)\n\u001b[0;32m----> 2\u001b[0m \u001b[43msns\u001b[49m\u001b[38;5;241;43m.\u001b[39;49m\u001b[43mheatmap\u001b[49m\u001b[43m(\u001b[49m\u001b[43mconfusion_matrix\u001b[49m\u001b[43m(\u001b[49m\u001b[43mY_test\u001b[49m\u001b[43m,\u001b[49m\u001b[43mY_pred\u001b[49m\u001b[43m)\u001b[49m\u001b[43m,\u001b[49m\u001b[43mannot\u001b[49m\u001b[38;5;241;43m=\u001b[39;49m\u001b[38;5;28;43;01mTrue\u001b[39;49;00m\u001b[43m,\u001b[49m\u001b[43mcmap\u001b[49m\u001b[38;5;241;43m=\u001b[39;49m\u001b[38;5;124;43m'\u001b[39;49m\u001b[38;5;124;43mBlues\u001b[39;49m\u001b[38;5;124;43m'\u001b[39;49m\u001b[43m)\u001b[49m\n\u001b[1;32m      3\u001b[0m plt\u001b[38;5;241m.\u001b[39mtitle(\u001b[38;5;124m'\u001b[39m\u001b[38;5;124m1 signifies dog sounds and 0 signifies cat sounds \u001b[39m\u001b[38;5;130;01m\\n\u001b[39;00m\u001b[38;5;124m'\u001b[39m\u001b[38;5;241m+\u001b[39m\u001b[38;5;124m'\u001b[39m\u001b[38;5;124mAccuracy:\u001b[39m\u001b[38;5;124m'\u001b[39m\u001b[38;5;241m+\u001b[39m\u001b[38;5;28mstr\u001b[39m(accuracy_score(Y_test,Y_pred)))\n\u001b[1;32m      4\u001b[0m plt\u001b[38;5;241m.\u001b[39mshow()\n",
      "File \u001b[0;32m/opt/conda/lib/python3.10/site-packages/seaborn/matrix.py:459\u001b[0m, in \u001b[0;36mheatmap\u001b[0;34m(data, vmin, vmax, cmap, center, robust, annot, fmt, annot_kws, linewidths, linecolor, cbar, cbar_kws, cbar_ax, square, xticklabels, yticklabels, mask, ax, **kwargs)\u001b[0m\n\u001b[1;32m    457\u001b[0m \u001b[38;5;28;01mif\u001b[39;00m square:\n\u001b[1;32m    458\u001b[0m     ax\u001b[38;5;241m.\u001b[39mset_aspect(\u001b[38;5;124m\"\u001b[39m\u001b[38;5;124mequal\u001b[39m\u001b[38;5;124m\"\u001b[39m)\n\u001b[0;32m--> 459\u001b[0m \u001b[43mplotter\u001b[49m\u001b[38;5;241;43m.\u001b[39;49m\u001b[43mplot\u001b[49m\u001b[43m(\u001b[49m\u001b[43max\u001b[49m\u001b[43m,\u001b[49m\u001b[43m \u001b[49m\u001b[43mcbar_ax\u001b[49m\u001b[43m,\u001b[49m\u001b[43m \u001b[49m\u001b[43mkwargs\u001b[49m\u001b[43m)\u001b[49m\n\u001b[1;32m    460\u001b[0m \u001b[38;5;28;01mreturn\u001b[39;00m ax\n",
      "File \u001b[0;32m/opt/conda/lib/python3.10/site-packages/seaborn/matrix.py:316\u001b[0m, in \u001b[0;36m_HeatMapper.plot\u001b[0;34m(self, ax, cax, kws)\u001b[0m\n\u001b[1;32m    314\u001b[0m \u001b[38;5;66;03m# Possibly add a colorbar\u001b[39;00m\n\u001b[1;32m    315\u001b[0m \u001b[38;5;28;01mif\u001b[39;00m \u001b[38;5;28mself\u001b[39m\u001b[38;5;241m.\u001b[39mcbar:\n\u001b[0;32m--> 316\u001b[0m     cb \u001b[38;5;241m=\u001b[39m \u001b[43max\u001b[49m\u001b[38;5;241;43m.\u001b[39;49m\u001b[43mfigure\u001b[49m\u001b[38;5;241;43m.\u001b[39;49m\u001b[43mcolorbar\u001b[49m\u001b[43m(\u001b[49m\u001b[43mmesh\u001b[49m\u001b[43m,\u001b[49m\u001b[43m \u001b[49m\u001b[43mcax\u001b[49m\u001b[43m,\u001b[49m\u001b[43m \u001b[49m\u001b[43max\u001b[49m\u001b[43m,\u001b[49m\u001b[43m \u001b[49m\u001b[38;5;241;43m*\u001b[39;49m\u001b[38;5;241;43m*\u001b[39;49m\u001b[38;5;28;43mself\u001b[39;49m\u001b[38;5;241;43m.\u001b[39;49m\u001b[43mcbar_kws\u001b[49m\u001b[43m)\u001b[49m\n\u001b[1;32m    317\u001b[0m     cb\u001b[38;5;241m.\u001b[39moutline\u001b[38;5;241m.\u001b[39mset_linewidth(\u001b[38;5;241m0\u001b[39m)\n\u001b[1;32m    318\u001b[0m     \u001b[38;5;66;03m# If rasterized is passed to pcolormesh, also rasterize the\u001b[39;00m\n\u001b[1;32m    319\u001b[0m     \u001b[38;5;66;03m# colorbar to avoid white lines on the PDF rendering\u001b[39;00m\n",
      "File \u001b[0;32m/opt/conda/lib/python3.10/site-packages/matplotlib/figure.py:1279\u001b[0m, in \u001b[0;36mFigureBase.colorbar\u001b[0;34m(self, mappable, cax, ax, use_gridspec, **kwargs)\u001b[0m\n\u001b[1;32m   1276\u001b[0m current_ax \u001b[38;5;241m=\u001b[39m \u001b[38;5;28mself\u001b[39m\u001b[38;5;241m.\u001b[39mgca()\n\u001b[1;32m   1277\u001b[0m userax \u001b[38;5;241m=\u001b[39m \u001b[38;5;28;01mFalse\u001b[39;00m\n\u001b[1;32m   1278\u001b[0m \u001b[38;5;28;01mif\u001b[39;00m (use_gridspec\n\u001b[0;32m-> 1279\u001b[0m         \u001b[38;5;129;01mand\u001b[39;00m \u001b[38;5;28misinstance\u001b[39m(ax, \u001b[43mmpl\u001b[49m\u001b[38;5;241;43m.\u001b[39;49m\u001b[43maxes\u001b[49m\u001b[38;5;241m.\u001b[39m_base\u001b[38;5;241m.\u001b[39m_AxesBase)\n\u001b[1;32m   1280\u001b[0m         \u001b[38;5;129;01mand\u001b[39;00m ax\u001b[38;5;241m.\u001b[39mget_subplotspec()):\n\u001b[1;32m   1281\u001b[0m     cax, kwargs \u001b[38;5;241m=\u001b[39m cbar\u001b[38;5;241m.\u001b[39mmake_axes_gridspec(ax, \u001b[38;5;241m*\u001b[39m\u001b[38;5;241m*\u001b[39mkwargs)\n\u001b[1;32m   1282\u001b[0m \u001b[38;5;28;01melse\u001b[39;00m:\n",
      "File \u001b[0;32m/opt/conda/lib/python3.10/site-packages/matplotlib/_api/__init__.py:226\u001b[0m, in \u001b[0;36mcaching_module_getattr.<locals>.__getattr__\u001b[0;34m(name)\u001b[0m\n\u001b[1;32m    224\u001b[0m \u001b[38;5;28;01mif\u001b[39;00m name \u001b[38;5;129;01min\u001b[39;00m props:\n\u001b[1;32m    225\u001b[0m     \u001b[38;5;28;01mreturn\u001b[39;00m props[name]\u001b[38;5;241m.\u001b[39m\u001b[38;5;21m__get__\u001b[39m(instance)\n\u001b[0;32m--> 226\u001b[0m \u001b[38;5;28;01mraise\u001b[39;00m \u001b[38;5;167;01mAttributeError\u001b[39;00m(\n\u001b[1;32m    227\u001b[0m     \u001b[38;5;124mf\u001b[39m\u001b[38;5;124m\"\u001b[39m\u001b[38;5;124mmodule \u001b[39m\u001b[38;5;132;01m{\u001b[39;00m\u001b[38;5;28mcls\u001b[39m\u001b[38;5;241m.\u001b[39m\u001b[38;5;18m__module__\u001b[39m\u001b[38;5;132;01m!r}\u001b[39;00m\u001b[38;5;124m has no attribute \u001b[39m\u001b[38;5;132;01m{\u001b[39;00mname\u001b[38;5;132;01m!r}\u001b[39;00m\u001b[38;5;124m\"\u001b[39m)\n",
      "\u001b[0;31mAttributeError\u001b[0m: module 'matplotlib' has no attribute 'axes'"
     ]
    },
    {
     "data": {
      "image/png": "[encoded data removed]",
      "text/plain": [
       "<Figure size 640x480 with 1 Axes>"
      ]
     },
     "metadata": {},
     "output_type": "display_data"
    },
    {
     "data": {
      "image/png": "[encoded data removed]",
      "text/plain": [
       "<Figure size 800x640 with 1 Axes>"
      ]
     },
     "metadata": {},
     "output_type": "display_data"
    },
    {
     "data": {
      "image/png": "[encoded data removed]",
      "text/plain": [
       "<Figure size 800x640 with 1 Axes>"
      ]
     },
     "metadata": {},
     "output_type": "display_data"
    },
    {
     "ename": "AttributeError",
     "evalue": "module 'matplotlib' has no attribute 'pyplot'",
     "output_type": "error",
     "traceback": [
      "\u001b[0;31m---------------------------------------------------------------------------\u001b[0m",
      "\u001b[0;31mAttributeError\u001b[0m                            Traceback (most recent call last)",
      "File \u001b[0;32m/opt/conda/lib/python3.10/site-packages/matplotlib_inline/backend_inline.py:99\u001b[0m, in \u001b[0;36mshow\u001b[0;34m(close, block)\u001b[0m\n\u001b[1;32m     96\u001b[0m \u001b[38;5;66;03m# only call close('all') if any to close\u001b[39;00m\n\u001b[1;32m     97\u001b[0m \u001b[38;5;66;03m# close triggers gc.collect, which can be slow\u001b[39;00m\n\u001b[1;32m     98\u001b[0m \u001b[38;5;28;01mif\u001b[39;00m close \u001b[38;5;129;01mand\u001b[39;00m Gcf\u001b[38;5;241m.\u001b[39mget_all_fig_managers():\n\u001b[0;32m---> 99\u001b[0m     \u001b[43mmatplotlib\u001b[49m\u001b[38;5;241;43m.\u001b[39;49m\u001b[43mpyplot\u001b[49m\u001b[38;5;241m.\u001b[39mclose(\u001b[38;5;124m'\u001b[39m\u001b[38;5;124mall\u001b[39m\u001b[38;5;124m'\u001b[39m)\n",
      "File \u001b[0;32m/opt/conda/lib/python3.10/site-packages/matplotlib/_api/__init__.py:226\u001b[0m, in \u001b[0;36mcaching_module_getattr.<locals>.__getattr__\u001b[0;34m(name)\u001b[0m\n\u001b[1;32m    224\u001b[0m \u001b[38;5;28;01mif\u001b[39;00m name \u001b[38;5;129;01min\u001b[39;00m props:\n\u001b[1;32m    225\u001b[0m     \u001b[38;5;28;01mreturn\u001b[39;00m props[name]\u001b[38;5;241m.\u001b[39m\u001b[38;5;21m__get__\u001b[39m(instance)\n\u001b[0;32m--> 226\u001b[0m \u001b[38;5;28;01mraise\u001b[39;00m \u001b[38;5;167;01mAttributeError\u001b[39;00m(\n\u001b[1;32m    227\u001b[0m     \u001b[38;5;124mf\u001b[39m\u001b[38;5;124m\"\u001b[39m\u001b[38;5;124mmodule \u001b[39m\u001b[38;5;132;01m{\u001b[39;00m\u001b[38;5;28mcls\u001b[39m\u001b[38;5;241m.\u001b[39m\u001b[38;5;18m__module__\u001b[39m\u001b[38;5;132;01m!r}\u001b[39;00m\u001b[38;5;124m has no attribute \u001b[39m\u001b[38;5;132;01m{\u001b[39;00mname\u001b[38;5;132;01m!r}\u001b[39;00m\u001b[38;5;124m\"\u001b[39m)\n",
      "\u001b[0;31mAttributeError\u001b[0m: module 'matplotlib' has no attribute 'pyplot'"
     ]
    }
   ],
   "source": [
    "plt.figure(figsize=(10,8),dpi=80)\n",
    "sns.heatmap(confusion_matrix(Y_test,Y_pred),annot=True,cmap='Blues')\n",
    "plt.title('1 signifies dog sounds and 0 signifies cat sounds \\n'+'Accuracy:'+str(accuracy_score(Y_test,Y_pred)))\n",
    "plt.show()"
   ]
  },
  {
   "cell_type": "code",
   "execution_count": null,
   "id": "ba8391bb-7cf6-4981-b4ef-70a925efaa73",
   "metadata": {},
   "outputs": [],
   "source": []
  }
 ],
 "metadata": {
  "kernelspec": {
   "display_name": "Python 3 (ipykernel)",
   "language": "python",
   "name": "python3"
  },
  "language_info": {
   "codemirror_mode": {
    "name": "ipython",
    "version": 3
   },
   "file_extension": ".py",
   "mimetype": "text/x-python",
   "name": "python",
   "nbconvert_exporter": "python",
   "pygments_lexer": "ipython3",
   "version": "3.8.16"
  }
 },
 "nbformat": 4,
 "nbformat_minor": 5
}
