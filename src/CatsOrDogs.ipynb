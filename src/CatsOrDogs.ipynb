{
  "cells": [
    {
      "cell_type": "markdown",
      "id": "a56af4db",
      "metadata": {
        "id": "a56af4db"
      },
      "source": [
        "# 1. Import librairies"
      ]
    },
    {
      "cell_type": "code",
      "execution_count": 31,
      "id": "f02d4fef",
      "metadata": {
        "tags": [],
        "id": "f02d4fef"
      },
      "outputs": [],
      "source": [
        "import pandas as pd\n",
        "import numpy as np\n",
        "import os\n",
        "import wave\n",
        "import librosa \n",
        "import kerascnn2c\n",
        "from pathlib import Path\n",
        "import tensorflow as tf\n",
        "import copy\n",
        "import librosa.display\n",
        "import matplotlib.pyplot as plt\n",
        "import seaborn as sns\n",
        "from sklearn.preprocessing import LabelEncoder,OneHotEncoder\n",
        "from keras.models import Sequential\n",
        "import tensorflow.keras.layers as layers\n",
        "from keras.layers import Input, Conv1D, AvgPool1D, MaxPool1D, ZeroPadding1D, BatchNormalization, Flatten, Dense, Activation\n",
        "from keras.utils.np_utils import to_categorical\n",
        "from sklearn.metrics import confusion_matrix,classification_report,accuracy_score,f1_score\n",
        "#train data creator"
      ]
    },
    {
      "cell_type": "markdown",
      "id": "c4cf13e7",
      "metadata": {
        "id": "c4cf13e7"
      },
      "source": [
        "# 2. Create train_data"
      ]
    },
    {
      "cell_type": "code",
      "execution_count": null,
      "id": "c4b8bf4e",
      "metadata": {
        "tags": [],
        "colab": {
          "base_uri": "https://localhost:8080/"
        },
        "id": "c4b8bf4e",
        "outputId": "787bf022-a3f8-4e35-c297-4f67b430654f"
      },
      "outputs": [
        {
          "output_type": "stream",
          "name": "stdout",
          "text": [
            "                      ID label\n",
            "0            cat_113.wav   cat\n",
            "1             cat_44.wav   cat\n",
            "2             cat_74.wav   cat\n",
            "3            cat_100.wav   cat\n",
            "4            cat_109.wav   cat\n",
            "..                   ...   ...\n",
            "205   dog_barking_30.wav   dog\n",
            "206   dog_barking_92.wav   dog\n",
            "207  dog_barking_105.wav   dog\n",
            "208   dog_barking_79.wav   dog\n",
            "209   dog_barking_16.wav   dog\n",
            "\n",
            "[210 rows x 2 columns]\n"
          ]
        }
      ],
      "source": [
        "ID=[]\n",
        "label=[]\n",
        "# assign directory\n",
        "directory = 'inputs/cats_dogs/train/'\n",
        " \n",
        "# iterate over files in\n",
        "# that directory\n",
        "\n",
        "for folder in os.listdir(directory):                               #go into the directory\n",
        "    for filename in os.listdir(directory+str(folder)):          #go in every class \n",
        "        f = os.path.join(directory+str(folder), filename)    #scan through every file in that class\n",
        "        if os.path.isfile(f):\n",
        "            ID.append(f.split('/')[-1])\n",
        "            label.append(f.split('/')[-2])\n",
        "            \n",
        "train_data=pd.DataFrame()\n",
        "train_data['ID']=ID\n",
        "train_data['label']=label\n",
        "print(train_data)"
      ]
    },
    {
      "cell_type": "code",
      "execution_count": null,
      "id": "e43f7a61",
      "metadata": {
        "tags": [],
        "colab": {
          "base_uri": "https://localhost:8080/",
          "height": 490
        },
        "id": "e43f7a61",
        "outputId": "47e20e82-405d-4706-c820-d08582ce4f2e"
      },
      "outputs": [
        {
          "output_type": "display_data",
          "data": {
            "text/plain": [
              "<Figure size 640x480 with 1 Axes>"
            ],
            "image/png": "[encoded data removed]"
          },
          "metadata": {}
        }
      ],
      "source": [
        "#HERE WE JUST SHOWING THE AMOUNT OF DATAS 85 DOGS & 125 CATS\n",
        "plt.figure(figsize=(8,6),dpi=80)\n",
        "sns.set_theme(style=\"darkgrid\")\n",
        "sns.countplot(x='label',data=train_data)\n",
        "plt.title('counts: \\n' +'dogs:'+str(train_data.label.value_counts()[1])+\n",
        "          '\\n cats:'+str(train_data.label.value_counts()[0]))\n",
        "plt.show()"
      ]
    },
    {
      "cell_type": "markdown",
      "id": "e102767b",
      "metadata": {
        "id": "e102767b"
      },
      "source": [
        "# 3. Create test_data"
      ]
    },
    {
      "cell_type": "code",
      "execution_count": null,
      "id": "788ec8fa",
      "metadata": {
        "tags": [],
        "colab": {
          "base_uri": "https://localhost:8080/"
        },
        "id": "788ec8fa",
        "outputId": "0670b2ca-0b09-4446-e822-0cb63a65b4fb"
      },
      "outputs": [
        {
          "output_type": "stream",
          "name": "stdout",
          "text": [
            "                    ID label\n",
            "0   dog_barking_62.wav  dogs\n",
            "1    dog_barking_8.wav  dogs\n",
            "2   dog_barking_82.wav  dogs\n",
            "3   dog_barking_91.wav  dogs\n",
            "4   dog_barking_43.wav  dogs\n",
            "..                 ...   ...\n",
            "62          cat_14.wav  cats\n",
            "63         cat_148.wav  cats\n",
            "64         cat_110.wav  cats\n",
            "65          cat_86.wav  cats\n",
            "66          cat_24.wav  cats\n",
            "\n",
            "[67 rows x 2 columns]\n"
          ]
        }
      ],
      "source": [
        "ID=[]\n",
        "label=[]\n",
        "# assign directory\n",
        "directory = 'inputs/cats_dogs/test/'\n",
        " \n",
        "# iterate over files in\n",
        "# that directory\n",
        "\n",
        "for folder in os.listdir(directory):\n",
        "    for filename in os.listdir(directory+str(folder)):\n",
        "        f = os.path.join(directory+str(folder), filename)\n",
        "        if os.path.isfile(f):\n",
        "            ID.append(f.split('/')[-1])\n",
        "            label.append(f.split('/')[-2])\n",
        "            \n",
        "# WE CHANGE LABELS NAMES FROM TEST TO DOG            \n",
        "for i in range(len(label)):\n",
        "    if(label[i]=='test'):\n",
        "        label[i]='dogs'\n",
        "        \n",
        "test_data=pd.DataFrame()\n",
        "test_data['ID']=ID\n",
        "test_data['label']=label\n",
        "print(test_data)"
      ]
    },
    {
      "cell_type": "code",
      "source": [
        "plt.figure(figsize=(8,6),dpi=80)\n",
        "sns.set_theme(style=\"darkgrid\")\n",
        "sns.countplot(x='label',data=test_data)\n",
        "plt.title('counts: \\n' +'dogs:'+str(train_data.label.value_counts()[1])+\n",
        "          '\\n cats:'+str(test_data.label.value_counts()[0]))\n",
        "plt.show()"
      ],
      "metadata": {
        "colab": {
          "base_uri": "https://localhost:8080/",
          "height": 490
        },
        "id": "9fdkv2XyxMVH",
        "outputId": "420ed4d1-5121-462c-bc3d-d8f8072a88ab"
      },
      "id": "9fdkv2XyxMVH",
      "execution_count": 84,
      "outputs": [
        {
          "output_type": "display_data",
          "data": {
            "text/plain": [
              "<Figure size 640x480 with 1 Axes>"
            ],
            "image/png": "[encoded data removed]"
          },
          "metadata": {}
        }
      ]
    },
    {
      "cell_type": "markdown",
      "id": "19a8a22a",
      "metadata": {
        "id": "19a8a22a"
      },
      "source": [
        "# 4. Feature extraction of audio files using MFCCs"
      ]
    },
    {
      "cell_type": "markdown",
      "id": "c7e28631",
      "metadata": {
        "id": "c7e28631"
      },
      "source": [
        "This function will access the audio files directly from the dataset and automatically store the features for each file in train set"
      ]
    },
    {
      "cell_type": "markdown",
      "id": "82b7a987",
      "metadata": {
        "id": "82b7a987"
      },
      "source": [
        "In librosa.load function if we dont write sr=None, it will upsample every audio file to 22Khz which we dont want here."
      ]
    },
    {
      "cell_type": "markdown",
      "id": "ce52339b",
      "metadata": {
        "id": "ce52339b"
      },
      "source": [
        "We are using 100 Mel freq cepstrum coeff. for each audio file."
      ]
    },
    {
      "cell_type": "code",
      "execution_count": 74,
      "id": "31069bfd",
      "metadata": {
        "tags": [],
        "id": "31069bfd"
      },
      "outputs": [],
      "source": [
        "def extract_features(directory):\n",
        "    features=[]\n",
        "    ID=[]\n",
        "    for folder in os.listdir(directory):\n",
        "        for filename in os.listdir(directory+str(folder)):\n",
        "            f = os.path.join(directory+str(folder), filename)\n",
        "            \n",
        "            if os.path.isfile(f):\n",
        "                y,sr=librosa.load(f, res_type='kaiser_fast',sr=None)\n",
        "                mfccs = np.mean(librosa.feature.mfcc(y=y, sr=sr, n_mfcc=100).T, axis=0)\n",
        "    \n",
        "                features.append(mfccs)\n",
        "                ID.append(f.split('/')[-1])\n",
        "    return [ID, features]"
      ]
    },
    {
      "cell_type": "markdown",
      "id": "f168938f",
      "metadata": {
        "id": "f168938f"
      },
      "source": [
        "call on train data set"
      ]
    },
    {
      "cell_type": "code",
      "execution_count": 75,
      "id": "3b383a70",
      "metadata": {
        "tags": [],
        "id": "3b383a70"
      },
      "outputs": [],
      "source": [
        "ID, features_train=extract_features('inputs/cats_dogs/train/')\n",
        "ID, features_test=extract_features('inputs/cats_dogs/test/')"
      ]
    },
    {
      "cell_type": "code",
      "execution_count": null,
      "id": "2ffab4a2",
      "metadata": {
        "id": "2ffab4a2"
      },
      "outputs": [],
      "source": [
        "Création des donnée de train et de test"
      ]
    },
    {
      "cell_type": "code",
      "execution_count": 76,
      "id": "c1df0a99",
      "metadata": {
        "id": "c1df0a99",
        "colab": {
          "base_uri": "https://localhost:8080/"
        },
        "outputId": "d15d35b3-eaed-47d6-b43d-31cbd34eaa97"
      },
      "outputs": [
        {
          "output_type": "stream",
          "name": "stdout",
          "text": [
            "<class 'numpy.ndarray'>\n",
            "<class 'list'>\n"
          ]
        }
      ],
      "source": [
        "X_train=np.array(features_train)\n",
        "X_test=np.array(features_test)\n",
        "Y_train=train_data.label\n",
        "Y_test=test_data.label\n",
        "print(type(X_train))\n",
        "print(type(features_train))"
      ]
    },
    {
      "cell_type": "code",
      "execution_count": 77,
      "id": "19e4dac9",
      "metadata": {
        "id": "19e4dac9"
      },
      "outputs": [],
      "source": [
        "le=LabelEncoder()\n",
        "\n",
        "temp=le.fit_transform(Y_train)\n",
        "Y_train=temp.reshape(-1,1)\n",
        "\n",
        "temp=le.fit_transform(Y_test)\n",
        "Y_test=temp.reshape(-1,1)"
      ]
    },
    {
      "cell_type": "code",
      "execution_count": 78,
      "id": "79f08328",
      "metadata": {
        "id": "79f08328"
      },
      "outputs": [],
      "source": [
        "model=tf.keras.Sequential()\n",
        "model.add(layers.Input(shape=(100, 1)))\n",
        "model.add(layers.MaxPool1D(pool_size=4, strides=3, padding='valid'))\n",
        "model.add(layers.Conv1D(filters=64, kernel_size=8, activation='relu'))\n",
        "model.add(layers.Flatten())\n",
        "model.add(layers.Dense(units=1))\n",
        "model.add(layers.Dense(1,activation='sigmoid'))"
      ]
    },
    {
      "cell_type": "code",
      "execution_count": 79,
      "id": "3a670ea3",
      "metadata": {
        "id": "3a670ea3"
      },
      "outputs": [],
      "source": [
        "model.compile(optimizer='adam',loss='binary_crossentropy',metrics=['accuracy'])"
      ]
    },
    {
      "cell_type": "code",
      "execution_count": 80,
      "id": "de3066c6",
      "metadata": {
        "colab": {
          "base_uri": "https://localhost:8080/"
        },
        "id": "de3066c6",
        "outputId": "ebb4496b-d6e8-442a-8f91-7fbb351bb2e2"
      },
      "outputs": [
        {
          "output_type": "stream",
          "name": "stdout",
          "text": [
            "Epoch 1/100\n",
            "7/7 [==============================] - 3s 5ms/step - loss: 0.6978 - accuracy: 0.4857\n",
            "Epoch 2/100\n",
            "7/7 [==============================] - 0s 4ms/step - loss: 0.5292 - accuracy: 0.7952\n",
            "Epoch 3/100\n",
            "7/7 [==============================] - 0s 4ms/step - loss: 0.4515 - accuracy: 0.8381\n",
            "Epoch 4/100\n",
            "7/7 [==============================] - 0s 4ms/step - loss: 0.4128 - accuracy: 0.8476\n",
            "Epoch 5/100\n",
            "7/7 [==============================] - 0s 5ms/step - loss: 0.3805 - accuracy: 0.8667\n",
            "Epoch 6/100\n",
            "7/7 [==============================] - 0s 5ms/step - loss: 0.3583 - accuracy: 0.8762\n",
            "Epoch 7/100\n",
            "7/7 [==============================] - 0s 5ms/step - loss: 0.3434 - accuracy: 0.8714\n",
            "Epoch 8/100\n",
            "7/7 [==============================] - 0s 5ms/step - loss: 0.3360 - accuracy: 0.8762\n",
            "Epoch 9/100\n",
            "7/7 [==============================] - 0s 5ms/step - loss: 0.3256 - accuracy: 0.8762\n",
            "Epoch 10/100\n",
            "7/7 [==============================] - 0s 5ms/step - loss: 0.3129 - accuracy: 0.8905\n",
            "Epoch 11/100\n",
            "7/7 [==============================] - 0s 4ms/step - loss: 0.3033 - accuracy: 0.8905\n",
            "Epoch 12/100\n",
            "7/7 [==============================] - 0s 4ms/step - loss: 0.2960 - accuracy: 0.8857\n",
            "Epoch 13/100\n",
            "7/7 [==============================] - 0s 5ms/step - loss: 0.2867 - accuracy: 0.8857\n",
            "Epoch 14/100\n",
            "7/7 [==============================] - 0s 4ms/step - loss: 0.2807 - accuracy: 0.8857\n",
            "Epoch 15/100\n",
            "7/7 [==============================] - 0s 4ms/step - loss: 0.2768 - accuracy: 0.8952\n",
            "Epoch 16/100\n",
            "7/7 [==============================] - 0s 4ms/step - loss: 0.2728 - accuracy: 0.8952\n",
            "Epoch 17/100\n",
            "7/7 [==============================] - 0s 5ms/step - loss: 0.2592 - accuracy: 0.9000\n",
            "Epoch 18/100\n",
            "7/7 [==============================] - 0s 4ms/step - loss: 0.2607 - accuracy: 0.8952\n",
            "Epoch 19/100\n",
            "7/7 [==============================] - 0s 6ms/step - loss: 0.2499 - accuracy: 0.9000\n",
            "Epoch 20/100\n",
            "7/7 [==============================] - 0s 6ms/step - loss: 0.2434 - accuracy: 0.9048\n",
            "Epoch 21/100\n",
            "7/7 [==============================] - 0s 4ms/step - loss: 0.2488 - accuracy: 0.9143\n",
            "Epoch 22/100\n",
            "7/7 [==============================] - 0s 5ms/step - loss: 0.2399 - accuracy: 0.9143\n",
            "Epoch 23/100\n",
            "7/7 [==============================] - 0s 4ms/step - loss: 0.2316 - accuracy: 0.9190\n",
            "Epoch 24/100\n",
            "7/7 [==============================] - 0s 4ms/step - loss: 0.2246 - accuracy: 0.9190\n",
            "Epoch 25/100\n",
            "7/7 [==============================] - 0s 4ms/step - loss: 0.2201 - accuracy: 0.9095\n",
            "Epoch 26/100\n",
            "7/7 [==============================] - 0s 4ms/step - loss: 0.2137 - accuracy: 0.9143\n",
            "Epoch 27/100\n",
            "7/7 [==============================] - 0s 4ms/step - loss: 0.2100 - accuracy: 0.9143\n",
            "Epoch 28/100\n",
            "7/7 [==============================] - 0s 4ms/step - loss: 0.2085 - accuracy: 0.9190\n",
            "Epoch 29/100\n",
            "7/7 [==============================] - 0s 4ms/step - loss: 0.2015 - accuracy: 0.9238\n",
            "Epoch 30/100\n",
            "7/7 [==============================] - 0s 6ms/step - loss: 0.1975 - accuracy: 0.9238\n",
            "Epoch 31/100\n",
            "7/7 [==============================] - 0s 5ms/step - loss: 0.1916 - accuracy: 0.9286\n",
            "Epoch 32/100\n",
            "7/7 [==============================] - 0s 6ms/step - loss: 0.1891 - accuracy: 0.9333\n",
            "Epoch 33/100\n",
            "7/7 [==============================] - 0s 4ms/step - loss: 0.1851 - accuracy: 0.9429\n",
            "Epoch 34/100\n",
            "7/7 [==============================] - 0s 4ms/step - loss: 0.1822 - accuracy: 0.9476\n",
            "Epoch 35/100\n",
            "7/7 [==============================] - 0s 5ms/step - loss: 0.1772 - accuracy: 0.9286\n",
            "Epoch 36/100\n",
            "7/7 [==============================] - 0s 5ms/step - loss: 0.1727 - accuracy: 0.9429\n",
            "Epoch 37/100\n",
            "7/7 [==============================] - 0s 6ms/step - loss: 0.1731 - accuracy: 0.9429\n",
            "Epoch 38/100\n",
            "7/7 [==============================] - 0s 4ms/step - loss: 0.1645 - accuracy: 0.9524\n",
            "Epoch 39/100\n",
            "7/7 [==============================] - 0s 5ms/step - loss: 0.1645 - accuracy: 0.9476\n",
            "Epoch 40/100\n",
            "7/7 [==============================] - 0s 5ms/step - loss: 0.1606 - accuracy: 0.9476\n",
            "Epoch 41/100\n",
            "7/7 [==============================] - 0s 6ms/step - loss: 0.1575 - accuracy: 0.9524\n",
            "Epoch 42/100\n",
            "7/7 [==============================] - 0s 5ms/step - loss: 0.1500 - accuracy: 0.9524\n",
            "Epoch 43/100\n",
            "7/7 [==============================] - 0s 5ms/step - loss: 0.1469 - accuracy: 0.9571\n",
            "Epoch 44/100\n",
            "7/7 [==============================] - 0s 5ms/step - loss: 0.1437 - accuracy: 0.9571\n",
            "Epoch 45/100\n",
            "7/7 [==============================] - 0s 4ms/step - loss: 0.1410 - accuracy: 0.9571\n",
            "Epoch 46/100\n",
            "7/7 [==============================] - 0s 4ms/step - loss: 0.1368 - accuracy: 0.9571\n",
            "Epoch 47/100\n",
            "7/7 [==============================] - 0s 5ms/step - loss: 0.1344 - accuracy: 0.9571\n",
            "Epoch 48/100\n",
            "7/7 [==============================] - 0s 4ms/step - loss: 0.1303 - accuracy: 0.9571\n",
            "Epoch 49/100\n",
            "7/7 [==============================] - 0s 5ms/step - loss: 0.1362 - accuracy: 0.9524\n",
            "Epoch 50/100\n",
            "7/7 [==============================] - 0s 5ms/step - loss: 0.1247 - accuracy: 0.9619\n",
            "Epoch 51/100\n",
            "7/7 [==============================] - 0s 4ms/step - loss: 0.1224 - accuracy: 0.9571\n",
            "Epoch 52/100\n",
            "7/7 [==============================] - 0s 4ms/step - loss: 0.1196 - accuracy: 0.9571\n",
            "Epoch 53/100\n",
            "7/7 [==============================] - 0s 4ms/step - loss: 0.1177 - accuracy: 0.9619\n",
            "Epoch 54/100\n",
            "7/7 [==============================] - 0s 4ms/step - loss: 0.1136 - accuracy: 0.9619\n",
            "Epoch 55/100\n",
            "7/7 [==============================] - 0s 4ms/step - loss: 0.1109 - accuracy: 0.9571\n",
            "Epoch 56/100\n",
            "7/7 [==============================] - 0s 4ms/step - loss: 0.1125 - accuracy: 0.9667\n",
            "Epoch 57/100\n",
            "7/7 [==============================] - 0s 6ms/step - loss: 0.1073 - accuracy: 0.9619\n",
            "Epoch 58/100\n",
            "7/7 [==============================] - 0s 4ms/step - loss: 0.1026 - accuracy: 0.9667\n",
            "Epoch 59/100\n",
            "7/7 [==============================] - 0s 4ms/step - loss: 0.1049 - accuracy: 0.9714\n",
            "Epoch 60/100\n",
            "7/7 [==============================] - 0s 5ms/step - loss: 0.1039 - accuracy: 0.9619\n",
            "Epoch 61/100\n",
            "7/7 [==============================] - 0s 5ms/step - loss: 0.1004 - accuracy: 0.9714\n",
            "Epoch 62/100\n",
            "7/7 [==============================] - 0s 4ms/step - loss: 0.0981 - accuracy: 0.9619\n",
            "Epoch 63/100\n",
            "7/7 [==============================] - 0s 4ms/step - loss: 0.0882 - accuracy: 0.9714\n",
            "Epoch 64/100\n",
            "7/7 [==============================] - 0s 4ms/step - loss: 0.0912 - accuracy: 0.9810\n",
            "Epoch 65/100\n",
            "7/7 [==============================] - 0s 4ms/step - loss: 0.0893 - accuracy: 0.9762\n",
            "Epoch 66/100\n",
            "7/7 [==============================] - 0s 5ms/step - loss: 0.0824 - accuracy: 0.9810\n",
            "Epoch 67/100\n",
            "7/7 [==============================] - 0s 4ms/step - loss: 0.0819 - accuracy: 0.9810\n",
            "Epoch 68/100\n",
            "7/7 [==============================] - 0s 4ms/step - loss: 0.0791 - accuracy: 0.9762\n",
            "Epoch 69/100\n",
            "7/7 [==============================] - 0s 4ms/step - loss: 0.0806 - accuracy: 0.9762\n",
            "Epoch 70/100\n",
            "7/7 [==============================] - 0s 4ms/step - loss: 0.0734 - accuracy: 0.9857\n",
            "Epoch 71/100\n",
            "7/7 [==============================] - 0s 4ms/step - loss: 0.0729 - accuracy: 0.9857\n",
            "Epoch 72/100\n",
            "7/7 [==============================] - 0s 4ms/step - loss: 0.0698 - accuracy: 0.9810\n",
            "Epoch 73/100\n",
            "7/7 [==============================] - 0s 4ms/step - loss: 0.0679 - accuracy: 0.9857\n",
            "Epoch 74/100\n",
            "7/7 [==============================] - 0s 4ms/step - loss: 0.0675 - accuracy: 0.9905\n",
            "Epoch 75/100\n",
            "7/7 [==============================] - 0s 6ms/step - loss: 0.0721 - accuracy: 0.9762\n",
            "Epoch 76/100\n",
            "7/7 [==============================] - 0s 5ms/step - loss: 0.0646 - accuracy: 0.9905\n",
            "Epoch 77/100\n",
            "7/7 [==============================] - 0s 5ms/step - loss: 0.0606 - accuracy: 0.9952\n",
            "Epoch 78/100\n",
            "7/7 [==============================] - 0s 4ms/step - loss: 0.0618 - accuracy: 0.9810\n",
            "Epoch 79/100\n",
            "7/7 [==============================] - 0s 4ms/step - loss: 0.0583 - accuracy: 0.9905\n",
            "Epoch 80/100\n",
            "7/7 [==============================] - 0s 4ms/step - loss: 0.0587 - accuracy: 0.9857\n",
            "Epoch 81/100\n",
            "7/7 [==============================] - 0s 4ms/step - loss: 0.0534 - accuracy: 0.9952\n",
            "Epoch 82/100\n",
            "7/7 [==============================] - 0s 4ms/step - loss: 0.0547 - accuracy: 0.9952\n",
            "Epoch 83/100\n",
            "7/7 [==============================] - 0s 4ms/step - loss: 0.0508 - accuracy: 0.9952\n",
            "Epoch 84/100\n",
            "7/7 [==============================] - 0s 5ms/step - loss: 0.0504 - accuracy: 0.9952\n",
            "Epoch 85/100\n",
            "7/7 [==============================] - 0s 5ms/step - loss: 0.0483 - accuracy: 0.9952\n",
            "Epoch 86/100\n",
            "7/7 [==============================] - 0s 5ms/step - loss: 0.0466 - accuracy: 0.9905\n",
            "Epoch 87/100\n",
            "7/7 [==============================] - 0s 6ms/step - loss: 0.0461 - accuracy: 0.9952\n",
            "Epoch 88/100\n",
            "7/7 [==============================] - 0s 4ms/step - loss: 0.0459 - accuracy: 0.9952\n",
            "Epoch 89/100\n",
            "7/7 [==============================] - 0s 5ms/step - loss: 0.0431 - accuracy: 0.9952\n",
            "Epoch 90/100\n",
            "7/7 [==============================] - 0s 4ms/step - loss: 0.0424 - accuracy: 0.9952\n",
            "Epoch 91/100\n",
            "7/7 [==============================] - 0s 4ms/step - loss: 0.0421 - accuracy: 0.9952\n",
            "Epoch 92/100\n",
            "7/7 [==============================] - 0s 5ms/step - loss: 0.0393 - accuracy: 0.9952\n",
            "Epoch 93/100\n",
            "7/7 [==============================] - 0s 6ms/step - loss: 0.0383 - accuracy: 0.9952\n",
            "Epoch 94/100\n",
            "7/7 [==============================] - 0s 5ms/step - loss: 0.0376 - accuracy: 0.9952\n",
            "Epoch 95/100\n",
            "7/7 [==============================] - 0s 5ms/step - loss: 0.0362 - accuracy: 0.9952\n",
            "Epoch 96/100\n",
            "7/7 [==============================] - 0s 4ms/step - loss: 0.0346 - accuracy: 0.9952\n",
            "Epoch 97/100\n",
            "7/7 [==============================] - 0s 4ms/step - loss: 0.0340 - accuracy: 0.9952\n",
            "Epoch 98/100\n",
            "7/7 [==============================] - 0s 5ms/step - loss: 0.0333 - accuracy: 0.9952\n",
            "Epoch 99/100\n",
            "7/7 [==============================] - 0s 4ms/step - loss: 0.0338 - accuracy: 1.0000\n",
            "Epoch 100/100\n",
            "7/7 [==============================] - 0s 4ms/step - loss: 0.0322 - accuracy: 0.9952\n"
          ]
        }
      ],
      "source": [
        "hist = model.fit(X_train, Y_train,epochs=100)"
      ]
    },
    {
      "cell_type": "code",
      "execution_count": 81,
      "id": "f66d61ea",
      "metadata": {
        "colab": {
          "base_uri": "https://localhost:8080/"
        },
        "id": "f66d61ea",
        "outputId": "18cbde27-936c-44be-ba87-3782ec6299e4"
      },
      "outputs": [
        {
          "output_type": "stream",
          "name": "stdout",
          "text": [
            "———————————————————————————————————————————————————————————————————————————————————————————————————————\n",
            "Inputs                           | Layer                            | Outputs                         \n",
            "———————————————————————————————————————————————————————————————————————————————————————————————————————\n",
            "                                 | input_7                          | max_pooling1d_9                 \n",
            "-------------------------------------------------------------------------------------------------------\n",
            "input_7                          | max_pooling1d_9                  | conv1d_8                        \n",
            "-------------------------------------------------------------------------------------------------------\n",
            "max_pooling1d_9                  | conv1d_8                         | flatten_6                       \n",
            "-------------------------------------------------------------------------------------------------------\n",
            "conv1d_8                         | flatten_6                        | dense_11                        \n",
            "-------------------------------------------------------------------------------------------------------\n",
            "flatten_6                        | dense_11                         |                                 \n",
            "-------------------------------------------------------------------------------------------------------\n",
            "\n",
            "After optimization:\n",
            "———————————————————————————————————————————————————————————————————————————————————————————————————————\n",
            "Inputs                           | Layer                            | Outputs                         \n",
            "———————————————————————————————————————————————————————————————————————————————————————————————————————\n",
            "                                 | input_7                          | max_pooling1d_9                 \n",
            "-------------------------------------------------------------------------------------------------------\n",
            "input_7                          | max_pooling1d_9                  | conv1d_8                        \n",
            "-------------------------------------------------------------------------------------------------------\n",
            "max_pooling1d_9                  | conv1d_8                         | flatten_6                       \n",
            "-------------------------------------------------------------------------------------------------------\n",
            "conv1d_8                         | flatten_6                        | dense_11                        \n",
            "-------------------------------------------------------------------------------------------------------\n",
            "flatten_6                        | dense_11                         |                                 \n",
            "-------------------------------------------------------------------------------------------------------\n",
            "\n"
          ]
        }
      ],
      "source": [
        "model.save('cat_dogs.h5')\n",
        "\n",
        "model = tf.keras.Model(model.input, model.layers[-2].output, name=model.name)\n",
        "\n",
        "res = kerascnn2c.Converter(output_path=Path('gsc_output_fixed'),\n",
        "                           fixed_point=9, # Number of bits for the fractional part, Q7.9 format\n",
        "                           number_type='int16_t', # Data type for weights/activations (16 bits quantization)\n",
        "                           long_number_type='int32_t', # Data type for intermediate results\n",
        "                           number_min=-(2**15), # Minimum value for 16-bit signed integers\n",
        "                           number_max=(2**15)-1 # Maximum value for 16-bit signed integers\n",
        "                          ).convert_model(copy.deepcopy(model))\n",
        "with open('gsc_model_fixed.h', 'w') as f:\n",
        "    f.write(res)"
      ]
    },
    {
      "cell_type": "code",
      "execution_count": 82,
      "id": "722105ee",
      "metadata": {
        "scrolled": true,
        "tags": [],
        "colab": {
          "base_uri": "https://localhost:8080/"
        },
        "id": "722105ee",
        "outputId": "b4051005-990f-41eb-88b4-71b83513551e"
      },
      "outputs": [
        {
          "output_type": "stream",
          "name": "stdout",
          "text": [
            "Model: \"sequential_6\"\n",
            "_________________________________________________________________\n",
            " Layer (type)                Output Shape              Param #   \n",
            "=================================================================\n",
            " input_7 (InputLayer)        [(None, 100, 1)]          0         \n",
            "                                                                 \n",
            " max_pooling1d_9 (MaxPooling  (None, 33, 1)            0         \n",
            " 1D)                                                             \n",
            "                                                                 \n",
            " conv1d_8 (Conv1D)           (None, 26, 64)            576       \n",
            "                                                                 \n",
            " flatten_6 (Flatten)         (None, 1664)              0         \n",
            "                                                                 \n",
            " dense_11 (Dense)            (None, 1)                 1665      \n",
            "                                                                 \n",
            "=================================================================\n",
            "Total params: 2,241\n",
            "Trainable params: 2,241\n",
            "Non-trainable params: 0\n",
            "_________________________________________________________________\n",
            "None\n"
          ]
        }
      ],
      "source": [
        "print(model.summary())"
      ]
    },
    {
      "cell_type": "code",
      "execution_count": null,
      "id": "5b1d6282-8784-4db3-9e8b-009b591d040e",
      "metadata": {
        "tags": [],
        "colab": {
          "base_uri": "https://localhost:8080/"
        },
        "id": "5b1d6282-8784-4db3-9e8b-009b591d040e",
        "outputId": "c708f81b-8513-4654-e3e4-7434225d32c7"
      },
      "outputs": [
        {
          "output_type": "stream",
          "name": "stdout",
          "text": [
            "3/3 [==============================] - 0s 4ms/step\n",
            "              precision    recall  f1-score   support\n",
            "\n",
            "           0       0.90      0.90      0.90        39\n",
            "           1       0.86      0.86      0.86        28\n",
            "\n",
            "    accuracy                           0.88        67\n",
            "   macro avg       0.88      0.88      0.88        67\n",
            "weighted avg       0.88      0.88      0.88        67\n",
            "\n"
          ]
        }
      ],
      "source": [
        "Y_pred=model.predict(X_test)\n",
        "Y_pred=(Y_pred>0.5)*1\n",
        "print(classification_report(Y_test,Y_pred))"
      ]
    },
    {
      "cell_type": "code",
      "execution_count": 83,
      "id": "4df321d1-db15-4cec-b5d2-050e245567e1",
      "metadata": {
        "tags": [],
        "id": "4df321d1-db15-4cec-b5d2-050e245567e1",
        "outputId": "bf92c2b9-6a1d-48d4-9e10-cba8889b89b5",
        "colab": {
          "base_uri": "https://localhost:8080/",
          "height": 581
        }
      },
      "outputs": [
        {
          "output_type": "display_data",
          "data": {
            "text/plain": [
              "<Figure size 800x640 with 2 Axes>"
            ],
            "image/png": "[encoded data removed]"
          },
          "metadata": {}
        }
      ],
      "source": [
        "plt.figure(figsize=(10,8),dpi=80)\n",
        "sns.heatmap(confusion_matrix(Y_test,Y_pred),annot=True,cmap='Blues')\n",
        "plt.title('1 signifies dog sounds and 0 signifies cat sounds \\n'+'Accuracy:'+str(accuracy_score(Y_test,Y_pred)))\n",
        "plt.show()"
      ]
    },
    {
      "cell_type": "code",
      "execution_count": null,
      "id": "8a2ec23e",
      "metadata": {
        "tags": [],
        "colab": {
          "base_uri": "https://localhost:8080/"
        },
        "id": "8a2ec23e",
        "outputId": "b9909869-3511-405a-fc9a-5ce9455d56dc"
      },
      "outputs": [
        {
          "output_type": "stream",
          "name": "stdout",
          "text": [
            "\u001b[01m\u001b[Kgsc_output_fixed/model.c:\u001b[m\u001b[K In function ‘\u001b[01m\u001b[Kvoid cnn(const number_t (*)[100], number_t*)\u001b[m\u001b[K’:\n",
            "\u001b[01m\u001b[Kgsc_output_fixed/model.c:68:18:\u001b[m\u001b[K \u001b[01;35m\u001b[Kwarning: \u001b[m\u001b[Kleft operand of comma operator has no effect [\u001b[01;35m\u001b[K-Wunused-value\u001b[m\u001b[K]\n",
            "   68 |     \u001b[01;35m\u001b[Kactivations2.conv1d_1_output\u001b[m\u001b[K,\n",
            "      |     \u001b[01;35m\u001b[K~~~~~~~~~~~~~^~~~~~~~~~~~~~~\u001b[m\u001b[K\n"
          ]
        }
      ],
      "source": [
        "!g++ -Wall -Wextra -pedantic -Ofast -o gsc_fixed -Igsc_output_fixed/ gsc_output_fixed/model.c main.cpp "
      ]
    },
    {
      "cell_type": "code",
      "execution_count": null,
      "id": "8c892e1d",
      "metadata": {
        "tags": [],
        "colab": {
          "base_uri": "https://localhost:8080/"
        },
        "id": "8c892e1d",
        "outputId": "76c9f511-3dda-41e9-a30e-39bfea8e7b74"
      },
      "outputs": [
        {
          "output_type": "stream",
          "name": "stdout",
          "text": [
            "Error opening \"x_test_gsc_250.csv\": No such file or directory\n"
          ]
        }
      ],
      "source": [
        "!./gsc_fixed x_test_gsc_250.csv y_test_gsc_250.csv"
      ]
    }
  ],
  "metadata": {
    "kernelspec": {
      "display_name": "Python 3 (ipykernel)",
      "language": "python",
      "name": "python3"
    },
    "language_info": {
      "codemirror_mode": {
        "name": "ipython",
        "version": 3
      },
      "file_extension": ".py",
      "mimetype": "text/x-python",
      "name": "python",
      "nbconvert_exporter": "python",
      "pygments_lexer": "ipython3",
      "version": "3.8.16"
    },
    "colab": {
      "provenance": []
    }
  },
  "nbformat": 4,
  "nbformat_minor": 5
}