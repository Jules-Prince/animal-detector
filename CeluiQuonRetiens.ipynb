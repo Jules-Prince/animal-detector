{
 "cells": [
  {
   "cell_type": "code",
   "execution_count": 2,
   "id": "ff580094-87d8-48f6-9967-f36fa56a0108",
   "metadata": {
    "tags": []
   },
   "outputs": [
    {
     "name": "stdout",
     "output_type": "stream",
     "text": [
      "Collecting https://bitbucket.org/edge-team-leat/microai_public/get/6adfbcb347d3.zip#subdirectory=third_party/kerascnn2c_fixed\n",
      "  Downloading https://bitbucket.org/edge-team-leat/microai_public/get/6adfbcb347d3.zip (1.9 MB)\n",
      "\u001b[2K     \u001b[90m━━━━━━━━━━━━━━━━━━━━━━━━━━━━━━━━━━━━━━━━\u001b[0m \u001b[32m1.9/1.9 MB\u001b[0m \u001b[31m4.2 MB/s\u001b[0m eta \u001b[36m0:00:00\u001b[0m00:01\u001b[0m00:01\u001b[0m\n",
      "\u001b[?25h  Preparing metadata (setup.py) ... \u001b[?25ldone\n",
      "\u001b[?25hRequirement already satisfied: numpy in /opt/conda/lib/python3.10/site-packages (from kerascnn2c==1.0.0) (1.23.5)\n",
      "Requirement already satisfied: jinja2 in /opt/conda/lib/python3.10/site-packages (from kerascnn2c==1.0.0) (3.1.2)\n",
      "Requirement already satisfied: MarkupSafe>=2.0 in /opt/conda/lib/python3.10/site-packages (from jinja2->kerascnn2c==1.0.0) (2.1.2)\n",
      "Building wheels for collected packages: kerascnn2c\n",
      "  Building wheel for kerascnn2c (setup.py) ... \u001b[?25ldone\n",
      "\u001b[?25h  Created wheel for kerascnn2c: filename=kerascnn2c-1.0.0-py3-none-any.whl size=21338 sha256=f5a2bed2f449b4f836071713a9769e8919029eecf49dfcc16cc0d2879dcd547f\n",
      "  Stored in directory: /tmp/pip-ephem-wheel-cache-z8bab21x/wheels/29/df/9b/d62a64e871a29555dc13bc0c189d46297cdf80a3332230aaa1\n",
      "Successfully built kerascnn2c\n",
      "Installing collected packages: kerascnn2c\n",
      "Successfully installed kerascnn2c-1.0.0\n",
      "Note: you may need to restart the kernel to use updated packages.\n"
     ]
    }
   ],
   "source": [
    "pip install https://bitbucket.org/edge-team-leat/microai_public/get/6adfbcb347d3.zip\\#subdirectory\\=third_party/kerascnn2c_fixed"
   ]
  },
  {
   "cell_type": "code",
   "execution_count": 5,
   "id": "6448c251",
   "metadata": {
    "tags": []
   },
   "outputs": [],
   "source": [
    "import os\n",
    "from pathlib import Path\n",
    "\n",
    "import numpy as np\n",
    "import kerascnn2c\n",
    "import matplotlib.pyplot as plt\n",
    "from scipy import signal\n",
    "from scipy.io import wavfile\n",
    "\n",
    "# Read in train directories for cats and dogs before combining them\n",
    "\n",
    "dirname = 'inputs/cats_dogs/train/dog/'\n",
    "train_dog = []\n",
    "for filename in os.listdir(dirname):\n",
    "    sample_rate, samples = wavfile.read(dirname+filename)\n",
    "    frequencies, times, spectrogram = signal.spectrogram(samples, sample_rate)\n",
    "    train_dog.append(spectrogram)\n",
    "    \n",
    "dirname = 'inputs/cats_dogs/train/cat/'\n",
    "train_cat = []\n",
    "for filename in os.listdir(dirname):\n",
    "    sample_rate, samples = wavfile.read(dirname+filename)\n",
    "    frequencies, times, spectrogram = signal.spectrogram(samples, sample_rate)\n",
    "    train_cat.append(spectrogram)\n",
    "    \n",
    "    "
   ]
  },
  {
   "cell_type": "code",
   "execution_count": 6,
   "id": "87ffc1c7",
   "metadata": {
    "tags": []
   },
   "outputs": [],
   "source": [
    "dirname = 'inputs/cats_dogs/test/test/'\n",
    "test_dog = []\n",
    "for filename in os.listdir(dirname):\n",
    "    sample_rate, samples = wavfile.read(dirname+filename)\n",
    "    frequencies, times, spectrogram = signal.spectrogram(samples, sample_rate)\n",
    "    test_dog.append(spectrogram)\n",
    "    \n",
    "dirname = 'inputs/cats_dogs/test/cats/'\n",
    "test_cat = []\n",
    "for filename in os.listdir(dirname):\n",
    "    sample_rate, samples = wavfile.read(dirname+filename)\n",
    "    frequencies, times, spectrogram = signal.spectrogram(samples, sample_rate)\n",
    "    test_cat.append(spectrogram)"
   ]
  },
  {
   "cell_type": "code",
   "execution_count": 7,
   "id": "407b55b6",
   "metadata": {
    "tags": []
   },
   "outputs": [],
   "source": [
    "# pad clips so they're all of equal length\n",
    "def pad_spec(spectrogram, max_length):\n",
    "    return np.pad(spectrogram, ((0,0),(0,max_length-spectrogram.shape[1])), mode='mean')\n",
    "\n",
    "max_length = max([s.shape[1] for s in train_dog]+[s.shape[1] for s in train_cat]+[s.shape[1] for s in test_dog]+[s.shape[1] for s in test_cat])"
   ]
  },
  {
   "cell_type": "code",
   "execution_count": 8,
   "id": "45c49b7f",
   "metadata": {
    "tags": []
   },
   "outputs": [],
   "source": [
    "# Aggregate into train and test sets\n",
    "\n",
    "Y_train = np.array([1]*len(train_dog)+[0]*len(train_cat))\n",
    "X_train = np.array([pad_spec(s, max_length) for s in train_dog]+[pad_spec(s, max_length) for s in train_cat])\n",
    "\n",
    "Y_test = np.array([1]*len(test_dog)+[0]*len(test_cat))\n",
    "X_test = np.array([pad_spec(s, max_length) for s in test_dog]+[pad_spec(s, max_length) for s in test_cat])"
   ]
  },
  {
   "cell_type": "code",
   "execution_count": 9,
   "id": "72c5da74",
   "metadata": {
    "tags": []
   },
   "outputs": [],
   "source": [
    "# Shuffle train and test sets\n",
    "\n",
    "p = np.random.permutation(X_train.shape[0])\n",
    "X_train = X_train[p]\n",
    "Y_train = Y_train[p]\n",
    "\n",
    "p = np.random.permutation(X_test.shape[0])\n",
    "X_test = X_test[p]\n",
    "Y_test = Y_test[p]"
   ]
  },
  {
   "cell_type": "code",
   "execution_count": 10,
   "id": "85ac76a7",
   "metadata": {
    "tags": []
   },
   "outputs": [],
   "source": [
    "import tensorflow as tf\n",
    "from tensorflow.keras import layers, models, backend, optimizers"
   ]
  },
  {
   "cell_type": "code",
   "execution_count": 55,
   "id": "324d4477",
   "metadata": {
    "tags": []
   },
   "outputs": [],
   "source": [
    "model=tf.keras.Sequential()\n",
    "model.add(layers.Dense(input_shape=(100,), units= 200,activation='relu'))\n",
    "model.add(layers.Dense(200,activation='relu'))\n",
    "model.add(layers.Dense(200,activation='relu'))\n",
    "model.add(layers.Dense(1,activation='sigmoid'))"
   ]
  },
  {
   "cell_type": "code",
   "execution_count": 56,
   "id": "b8c5f2d9",
   "metadata": {
    "tags": []
   },
   "outputs": [],
   "source": [
    "model.compile(optimizer='adam',\n",
    "              loss='binary_crossentropy',\n",
    "              metrics=['accuracy'])"
   ]
  },
  {
   "cell_type": "code",
   "execution_count": 57,
   "id": "0ca45077",
   "metadata": {
    "tags": []
   },
   "outputs": [
    {
     "name": "stdout",
     "output_type": "stream",
     "text": [
      "Epoch 1/50\n"
     ]
    },
    {
     "ename": "ValueError",
     "evalue": "in user code:\n\n    File \"/opt/conda/lib/python3.10/site-packages/keras/engine/training.py\", line 1249, in train_function  *\n        return step_function(self, iterator)\n    File \"/opt/conda/lib/python3.10/site-packages/keras/engine/training.py\", line 1233, in step_function  **\n        outputs = model.distribute_strategy.run(run_step, args=(data,))\n    File \"/opt/conda/lib/python3.10/site-packages/keras/engine/training.py\", line 1222, in run_step  **\n        outputs = model.train_step(data)\n    File \"/opt/conda/lib/python3.10/site-packages/keras/engine/training.py\", line 1023, in train_step\n        y_pred = self(x, training=True)\n    File \"/opt/conda/lib/python3.10/site-packages/keras/utils/traceback_utils.py\", line 70, in error_handler\n        raise e.with_traceback(filtered_tb) from None\n    File \"/opt/conda/lib/python3.10/site-packages/keras/engine/input_spec.py\", line 295, in assert_input_compatibility\n        raise ValueError(\n\n    ValueError: Input 0 of layer \"sequential_1\" is incompatible with the layer: expected shape=(None, 100), found shape=(None, 129, 1283)\n",
     "output_type": "error",
     "traceback": [
      "\u001b[0;31m---------------------------------------------------------------------------\u001b[0m",
      "\u001b[0;31mValueError\u001b[0m                                Traceback (most recent call last)",
      "Cell \u001b[0;32mIn[57], line 1\u001b[0m\n\u001b[0;32m----> 1\u001b[0m history \u001b[38;5;241m=\u001b[39m \u001b[43mmodel\u001b[49m\u001b[38;5;241;43m.\u001b[39;49m\u001b[43mfit\u001b[49m\u001b[43m(\u001b[49m\u001b[43mX_train\u001b[49m\u001b[43m,\u001b[49m\u001b[43m \u001b[49m\u001b[43mY_train\u001b[49m\u001b[43m,\u001b[49m\u001b[43m \u001b[49m\u001b[43mepochs\u001b[49m\u001b[38;5;241;43m=\u001b[39;49m\u001b[38;5;241;43m50\u001b[39;49m\u001b[43m,\u001b[49m\u001b[43m \u001b[49m\u001b[43mbatch_size\u001b[49m\u001b[38;5;241;43m=\u001b[39;49m\u001b[38;5;241;43m16\u001b[39;49m\u001b[43m,\u001b[49m\n\u001b[1;32m      2\u001b[0m \u001b[43m                    \u001b[49m\u001b[43mvalidation_data\u001b[49m\u001b[38;5;241;43m=\u001b[39;49m\u001b[43m(\u001b[49m\u001b[43mX_test\u001b[49m\u001b[43m,\u001b[49m\u001b[43m \u001b[49m\u001b[43mY_test\u001b[49m\u001b[43m)\u001b[49m\u001b[43m)\u001b[49m\n",
      "File \u001b[0;32m/opt/conda/lib/python3.10/site-packages/keras/utils/traceback_utils.py:70\u001b[0m, in \u001b[0;36mfilter_traceback.<locals>.error_handler\u001b[0;34m(*args, **kwargs)\u001b[0m\n\u001b[1;32m     67\u001b[0m     filtered_tb \u001b[38;5;241m=\u001b[39m _process_traceback_frames(e\u001b[38;5;241m.\u001b[39m__traceback__)\n\u001b[1;32m     68\u001b[0m     \u001b[38;5;66;03m# To get the full stack trace, call:\u001b[39;00m\n\u001b[1;32m     69\u001b[0m     \u001b[38;5;66;03m# `tf.debugging.disable_traceback_filtering()`\u001b[39;00m\n\u001b[0;32m---> 70\u001b[0m     \u001b[38;5;28;01mraise\u001b[39;00m e\u001b[38;5;241m.\u001b[39mwith_traceback(filtered_tb) \u001b[38;5;28;01mfrom\u001b[39;00m \u001b[38;5;28;01mNone\u001b[39;00m\n\u001b[1;32m     71\u001b[0m \u001b[38;5;28;01mfinally\u001b[39;00m:\n\u001b[1;32m     72\u001b[0m     \u001b[38;5;28;01mdel\u001b[39;00m filtered_tb\n",
      "File \u001b[0;32m/tmp/__autograph_generated_fileq41q4kes.py:15\u001b[0m, in \u001b[0;36mouter_factory.<locals>.inner_factory.<locals>.tf__train_function\u001b[0;34m(iterator)\u001b[0m\n\u001b[1;32m     13\u001b[0m \u001b[38;5;28;01mtry\u001b[39;00m:\n\u001b[1;32m     14\u001b[0m     do_return \u001b[38;5;241m=\u001b[39m \u001b[38;5;28;01mTrue\u001b[39;00m\n\u001b[0;32m---> 15\u001b[0m     retval_ \u001b[38;5;241m=\u001b[39m ag__\u001b[38;5;241m.\u001b[39mconverted_call(ag__\u001b[38;5;241m.\u001b[39mld(step_function), (ag__\u001b[38;5;241m.\u001b[39mld(\u001b[38;5;28mself\u001b[39m), ag__\u001b[38;5;241m.\u001b[39mld(iterator)), \u001b[38;5;28;01mNone\u001b[39;00m, fscope)\n\u001b[1;32m     16\u001b[0m \u001b[38;5;28;01mexcept\u001b[39;00m:\n\u001b[1;32m     17\u001b[0m     do_return \u001b[38;5;241m=\u001b[39m \u001b[38;5;28;01mFalse\u001b[39;00m\n",
      "\u001b[0;31mValueError\u001b[0m: in user code:\n\n    File \"/opt/conda/lib/python3.10/site-packages/keras/engine/training.py\", line 1249, in train_function  *\n        return step_function(self, iterator)\n    File \"/opt/conda/lib/python3.10/site-packages/keras/engine/training.py\", line 1233, in step_function  **\n        outputs = model.distribute_strategy.run(run_step, args=(data,))\n    File \"/opt/conda/lib/python3.10/site-packages/keras/engine/training.py\", line 1222, in run_step  **\n        outputs = model.train_step(data)\n    File \"/opt/conda/lib/python3.10/site-packages/keras/engine/training.py\", line 1023, in train_step\n        y_pred = self(x, training=True)\n    File \"/opt/conda/lib/python3.10/site-packages/keras/utils/traceback_utils.py\", line 70, in error_handler\n        raise e.with_traceback(filtered_tb) from None\n    File \"/opt/conda/lib/python3.10/site-packages/keras/engine/input_spec.py\", line 295, in assert_input_compatibility\n        raise ValueError(\n\n    ValueError: Input 0 of layer \"sequential_1\" is incompatible with the layer: expected shape=(None, 100), found shape=(None, 129, 1283)\n"
     ]
    }
   ],
   "source": [
    "history = model.fit(X_train, Y_train, epochs=50, batch_size=16,\n",
    "                    validation_data=(X_test, Y_test))"
   ]
  },
  {
   "cell_type": "code",
   "execution_count": 50,
   "id": "a61e2246",
   "metadata": {
    "tags": []
   },
   "outputs": [
    {
     "name": "stdout",
     "output_type": "stream",
     "text": [
      "Keras weights file (<HDF5 file \"variables.h5\" (mode r+)>) saving:\n",
      "...layers\n",
      "......conv1d\n",
      ".........vars\n",
      "............0\n",
      "............1\n",
      "......dense\n",
      ".........vars\n",
      "............0\n",
      "............1\n",
      "......dense_1\n",
      ".........vars\n",
      "............0\n",
      "............1\n",
      "......dense_2\n",
      ".........vars\n",
      "............0\n",
      "............1\n",
      "......flatten\n",
      ".........vars\n",
      "......input_layer\n",
      ".........vars\n",
      "......max_pooling1d\n",
      ".........vars\n",
      "...vars\n",
      "Keras model archive saving:\n",
      "File Name                                             Modified             Size\n",
      "metadata.json                                  2023-04-30 18:09:17           64\n",
      "config.json                                    2023-04-30 18:09:17         3098\n",
      "variables.h5                                   2023-04-30 18:09:17       160240\n",
      "Keras model archive loading:\n",
      "File Name                                             Modified             Size\n",
      "metadata.json                                  2023-04-30 18:09:16           64\n",
      "config.json                                    2023-04-30 18:09:16         3098\n",
      "variables.h5                                   2023-04-30 18:09:16       160240\n",
      "Keras weights file (<HDF5 file \"variables.h5\" (mode r)>) loading:\n",
      "...layers\n",
      "......conv1d\n",
      ".........vars\n",
      "............0\n",
      "............1\n",
      "......dense\n",
      ".........vars\n",
      "............0\n",
      "............1\n",
      "......dense_1\n",
      ".........vars\n",
      "............0\n",
      "............1\n",
      "......dense_2\n",
      ".........vars\n",
      "............0\n",
      "............1\n",
      "......flatten\n",
      ".........vars\n",
      "......input_layer\n",
      ".........vars\n",
      "......max_pooling1d\n",
      ".........vars\n",
      "...vars\n",
      "———————————————————————————————————————————————————————————————————————————————————————————————————————\n",
      "Inputs                           | Layer                            | Outputs                         \n",
      "———————————————————————————————————————————————————————————————————————————————————————————————————————\n",
      "                                 | conv1d_input                     | conv1d                          \n",
      "-------------------------------------------------------------------------------------------------------\n",
      "conv1d_input                     | conv1d                           | max_pooling1d                   \n",
      "-------------------------------------------------------------------------------------------------------\n",
      "conv1d                           | max_pooling1d                    | flatten                         \n",
      "-------------------------------------------------------------------------------------------------------\n",
      "max_pooling1d                    | flatten                          | dense                           \n",
      "-------------------------------------------------------------------------------------------------------\n",
      "flatten                          | dense                            | dense_1                         \n",
      "-------------------------------------------------------------------------------------------------------\n",
      "dense                            | dense_1                          | dense_2                         \n",
      "-------------------------------------------------------------------------------------------------------\n",
      "dense_1                          | dense_2                          |                                 \n",
      "-------------------------------------------------------------------------------------------------------\n",
      "\n",
      "After optimization:\n",
      "———————————————————————————————————————————————————————————————————————————————————————————————————————\n",
      "Inputs                           | Layer                            | Outputs                         \n",
      "———————————————————————————————————————————————————————————————————————————————————————————————————————\n",
      "                                 | conv1d_input                     | conv1d                          \n",
      "-------------------------------------------------------------------------------------------------------\n",
      "conv1d_input                     | conv1d                           | max_pooling1d                   \n",
      "-------------------------------------------------------------------------------------------------------\n",
      "conv1d                           | max_pooling1d                    | flatten                         \n",
      "-------------------------------------------------------------------------------------------------------\n",
      "max_pooling1d                    | flatten                          | dense                           \n",
      "-------------------------------------------------------------------------------------------------------\n",
      "flatten                          | dense                            | dense_1                         \n",
      "-------------------------------------------------------------------------------------------------------\n",
      "dense                            | dense_1                          | dense_2                         \n",
      "-------------------------------------------------------------------------------------------------------\n",
      "dense_1                          | dense_2                          |                                 \n",
      "-------------------------------------------------------------------------------------------------------\n",
      "\n",
      "Error: activation function <function sigmoid at 0x7efed38125f0> not supported\n"
     ]
    },
    {
     "ename": "SystemExit",
     "evalue": "1",
     "output_type": "error",
     "traceback": [
      "An exception has occurred, use %tb to see the full traceback.\n",
      "\u001b[0;31mSystemExit\u001b[0m\u001b[0;31m:\u001b[0m 1\n"
     ]
    },
    {
     "name": "stderr",
     "output_type": "stream",
     "text": [
      "/opt/conda/lib/python3.10/site-packages/IPython/core/interactiveshell.py:3513: UserWarning: To exit: use 'exit', 'quit', or Ctrl-D.\n",
      "  warn(\"To exit: use 'exit', 'quit', or Ctrl-D.\", stacklevel=1)\n"
     ]
    }
   ],
   "source": [
    "import copy\n",
    "\n",
    "model.save('cat_dogs.h5')\n",
    "\n",
    "model = tf.keras.Model(model.input, model.layers[-1].output, name=model.name)\n",
    "\n",
    "res = kerascnn2c.Converter(output_path=Path('gsc_output_fixed'),\n",
    "                           fixed_point=9, # Number of bits for the fractional part, Q7.9 format\n",
    "                           number_type='int16_t', # Data type for weights/activations (16 bits quantization)\n",
    "                           long_number_type='int32_t', # Data type for intermediate results\n",
    "                           number_min=-(2**15), # Minimum value for 16-bit signed integers\n",
    "                           number_max=(2**15)-1 # Maximum value for 16-bit signed integers\n",
    "                          ).convert_model(copy.deepcopy(model))\n",
    "with open('gsc_model_fixed.h', 'w') as f:\n",
    "    f.write(res)"
   ]
  },
  {
   "cell_type": "code",
   "execution_count": 58,
   "id": "9914ab97",
   "metadata": {
    "tags": []
   },
   "outputs": [
    {
     "name": "stdout",
     "output_type": "stream",
     "text": [
      "In file included from \u001b[01m\u001b[Kgsc_output_fixed/model.c:15\u001b[m\u001b[K:\n",
      "\u001b[01m\u001b[Kgsc_output_fixed/conv1d.c:20:29:\u001b[m\u001b[K \u001b[01;31m\u001b[Kerror: \u001b[m\u001b[K‘\u001b[01m\u001b[Ks\u001b[m\u001b[K’ was not declared in this scope\n",
      "   20 | #define ZEROPADDING_LEFT    \u001b[01;31m\u001b[Ks\u001b[m\u001b[K\n",
      "      |                             \u001b[01;31m\u001b[K^\u001b[m\u001b[K\n",
      "\u001b[01m\u001b[Kgsc_output_fixed/conv1d.c:23:69:\u001b[m\u001b[K \u001b[01;36m\u001b[Knote: \u001b[m\u001b[Kin expansion of macro ‘\u001b[01m\u001b[KZEROPADDING_LEFT\u001b[m\u001b[K’\n",
      "   23 | CONV_OUTSAMPLES     ( ( (INPUT_SAMPLES - CONV_KERNEL_SIZE + \u001b[01;36m\u001b[KZEROPADDING_LEFT\u001b[m\u001b[K + ZEROPADDING_RIGHT) / CONV_STRIDE ) + 1 )\n",
      "      |                                                             \u001b[01;36m\u001b[K^~~~~~~~~~~~~~~~\u001b[m\u001b[K\n",
      "\n",
      "\u001b[01m\u001b[Kgsc_output_fixed/conv1d.c:27:51:\u001b[m\u001b[K \u001b[01;36m\u001b[Knote: \u001b[m\u001b[Kin expansion of macro ‘\u001b[01m\u001b[KCONV_OUTSAMPLES\u001b[m\u001b[K’\n",
      "   27 | typedef number_t conv1d_output_type[CONV_FILTERS][\u001b[01;36m\u001b[KCONV_OUTSAMPLES\u001b[m\u001b[K];\n",
      "      |                                                   \u001b[01;36m\u001b[K^~~~~~~~~~~~~~~\u001b[m\u001b[K\n",
      "\u001b[01m\u001b[Kgsc_output_fixed/conv1d.c:21:29:\u001b[m\u001b[K \u001b[01;31m\u001b[Kerror: \u001b[m\u001b[K‘\u001b[01m\u001b[Ka\u001b[m\u001b[K’ was not declared in this scope\n",
      "   21 | #define ZEROPADDING_RIGHT   \u001b[01;31m\u001b[Ka\u001b[m\u001b[K\n",
      "      |                             \u001b[01;31m\u001b[K^\u001b[m\u001b[K\n",
      "\u001b[01m\u001b[Kgsc_output_fixed/conv1d.c:23:88:\u001b[m\u001b[K \u001b[01;36m\u001b[Knote: \u001b[m\u001b[Kin expansion of macro ‘\u001b[01m\u001b[KZEROPADDING_RIGHT\u001b[m\u001b[K’\n",
      "   23 |  ( ( (INPUT_SAMPLES - CONV_KERNEL_SIZE + ZEROPADDING_LEFT + \u001b[01;36m\u001b[KZEROPADDING_RIGHT\u001b[m\u001b[K) / CONV_STRIDE ) + 1 )\n",
      "      |                                                             \u001b[01;36m\u001b[K^~~~~~~~~~~~~~~~~\u001b[m\u001b[K\n",
      "\n",
      "\u001b[01m\u001b[Kgsc_output_fixed/conv1d.c:27:51:\u001b[m\u001b[K \u001b[01;36m\u001b[Knote: \u001b[m\u001b[Kin expansion of macro ‘\u001b[01m\u001b[KCONV_OUTSAMPLES\u001b[m\u001b[K’\n",
      "   27 | typedef number_t conv1d_output_type[CONV_FILTERS][\u001b[01;36m\u001b[KCONV_OUTSAMPLES\u001b[m\u001b[K];\n",
      "      |                                                   \u001b[01;36m\u001b[K^~~~~~~~~~~~~~~\u001b[m\u001b[K\n",
      "\u001b[01m\u001b[Kgsc_output_fixed/conv1d.c:20:29:\u001b[m\u001b[K \u001b[01;31m\u001b[Kerror: \u001b[m\u001b[K‘\u001b[01m\u001b[Ks\u001b[m\u001b[K’ was not declared in this scope\n",
      "   20 | #define ZEROPADDING_LEFT    \u001b[01;31m\u001b[Ks\u001b[m\u001b[K\n",
      "      |                             \u001b[01;31m\u001b[K^\u001b[m\u001b[K\n",
      "\u001b[01m\u001b[Kgsc_output_fixed/conv1d.c:23:69:\u001b[m\u001b[K \u001b[01;36m\u001b[Knote: \u001b[m\u001b[Kin expansion of macro ‘\u001b[01m\u001b[KZEROPADDING_LEFT\u001b[m\u001b[K’\n",
      "   23 | CONV_OUTSAMPLES     ( ( (INPUT_SAMPLES - CONV_KERNEL_SIZE + \u001b[01;36m\u001b[KZEROPADDING_LEFT\u001b[m\u001b[K + ZEROPADDING_RIGHT) / CONV_STRIDE ) + 1 )\n",
      "      |                                                             \u001b[01;36m\u001b[K^~~~~~~~~~~~~~~~\u001b[m\u001b[K\n",
      "\n",
      "\u001b[01m\u001b[Kgsc_output_fixed/conv1d.c:35:33:\u001b[m\u001b[K \u001b[01;36m\u001b[Knote: \u001b[m\u001b[Kin expansion of macro ‘\u001b[01m\u001b[KCONV_OUTSAMPLES\u001b[m\u001b[K’\n",
      "   35 |   number_t output[CONV_FILTERS][\u001b[01;36m\u001b[KCONV_OUTSAMPLES\u001b[m\u001b[K]) {               // OUT\n",
      "      |                                 \u001b[01;36m\u001b[K^~~~~~~~~~~~~~~\u001b[m\u001b[K\n",
      "\u001b[01m\u001b[Kgsc_output_fixed/conv1d.c:21:29:\u001b[m\u001b[K \u001b[01;31m\u001b[Kerror: \u001b[m\u001b[K‘\u001b[01m\u001b[Ka\u001b[m\u001b[K’ was not declared in this scope\n",
      "   21 | #define ZEROPADDING_RIGHT   \u001b[01;31m\u001b[Ka\u001b[m\u001b[K\n",
      "      |                             \u001b[01;31m\u001b[K^\u001b[m\u001b[K\n",
      "\u001b[01m\u001b[Kgsc_output_fixed/conv1d.c:23:88:\u001b[m\u001b[K \u001b[01;36m\u001b[Knote: \u001b[m\u001b[Kin expansion of macro ‘\u001b[01m\u001b[KZEROPADDING_RIGHT\u001b[m\u001b[K’\n",
      "   23 |  ( ( (INPUT_SAMPLES - CONV_KERNEL_SIZE + ZEROPADDING_LEFT + \u001b[01;36m\u001b[KZEROPADDING_RIGHT\u001b[m\u001b[K) / CONV_STRIDE ) + 1 )\n",
      "      |                                                             \u001b[01;36m\u001b[K^~~~~~~~~~~~~~~~~\u001b[m\u001b[K\n",
      "\n",
      "\u001b[01m\u001b[Kgsc_output_fixed/conv1d.c:35:33:\u001b[m\u001b[K \u001b[01;36m\u001b[Knote: \u001b[m\u001b[Kin expansion of macro ‘\u001b[01m\u001b[KCONV_OUTSAMPLES\u001b[m\u001b[K’\n",
      "   35 |   number_t output[CONV_FILTERS][\u001b[01;36m\u001b[KCONV_OUTSAMPLES\u001b[m\u001b[K]) {               // OUT\n",
      "      |                                 \u001b[01;36m\u001b[K^~~~~~~~~~~~~~~\u001b[m\u001b[K\n",
      "\u001b[01m\u001b[Kgsc_output_fixed/conv1d.c:\u001b[m\u001b[K In function ‘\u001b[01m\u001b[Kvoid conv1d(...)\u001b[m\u001b[K’:\n",
      "\u001b[01m\u001b[Kgsc_output_fixed/conv1d.c:20:29:\u001b[m\u001b[K \u001b[01;31m\u001b[Kerror: \u001b[m\u001b[K‘\u001b[01m\u001b[Ks\u001b[m\u001b[K’ was not declared in this scope\n",
      "   20 | #define ZEROPADDING_LEFT    \u001b[01;31m\u001b[Ks\u001b[m\u001b[K\n",
      "      |                             \u001b[01;31m\u001b[K^\u001b[m\u001b[K\n",
      "\u001b[01m\u001b[Kgsc_output_fixed/conv1d.c:23:69:\u001b[m\u001b[K \u001b[01;36m\u001b[Knote: \u001b[m\u001b[Kin expansion of macro ‘\u001b[01m\u001b[KZEROPADDING_LEFT\u001b[m\u001b[K’\n",
      "   23 | CONV_OUTSAMPLES     ( ( (INPUT_SAMPLES - CONV_KERNEL_SIZE + \u001b[01;36m\u001b[KZEROPADDING_LEFT\u001b[m\u001b[K + ZEROPADDING_RIGHT) / CONV_STRIDE ) + 1 )\n",
      "      |                                                             \u001b[01;36m\u001b[K^~~~~~~~~~~~~~~~\u001b[m\u001b[K\n",
      "\n",
      "\u001b[01m\u001b[Kgsc_output_fixed/conv1d.c:41:36:\u001b[m\u001b[K \u001b[01;36m\u001b[Knote: \u001b[m\u001b[Kin expansion of macro ‘\u001b[01m\u001b[KCONV_OUTSAMPLES\u001b[m\u001b[K’\n",
      "   41 |   static long_number_t  output_acc[\u001b[01;36m\u001b[KCONV_OUTSAMPLES\u001b[m\u001b[K];\n",
      "      |                                    \u001b[01;36m\u001b[K^~~~~~~~~~~~~~~\u001b[m\u001b[K\n",
      "\u001b[01m\u001b[Kgsc_output_fixed/conv1d.c:21:29:\u001b[m\u001b[K \u001b[01;31m\u001b[Kerror: \u001b[m\u001b[K‘\u001b[01m\u001b[Ka\u001b[m\u001b[K’ was not declared in this scope\n",
      "   21 | #define ZEROPADDING_RIGHT   \u001b[01;31m\u001b[Ka\u001b[m\u001b[K\n",
      "      |                             \u001b[01;31m\u001b[K^\u001b[m\u001b[K\n",
      "\u001b[01m\u001b[Kgsc_output_fixed/conv1d.c:23:88:\u001b[m\u001b[K \u001b[01;36m\u001b[Knote: \u001b[m\u001b[Kin expansion of macro ‘\u001b[01m\u001b[KZEROPADDING_RIGHT\u001b[m\u001b[K’\n",
      "   23 |  ( ( (INPUT_SAMPLES - CONV_KERNEL_SIZE + ZEROPADDING_LEFT + \u001b[01;36m\u001b[KZEROPADDING_RIGHT\u001b[m\u001b[K) / CONV_STRIDE ) + 1 )\n",
      "      |                                                             \u001b[01;36m\u001b[K^~~~~~~~~~~~~~~~~\u001b[m\u001b[K\n",
      "\n",
      "\u001b[01m\u001b[Kgsc_output_fixed/conv1d.c:41:36:\u001b[m\u001b[K \u001b[01;36m\u001b[Knote: \u001b[m\u001b[Kin expansion of macro ‘\u001b[01m\u001b[KCONV_OUTSAMPLES\u001b[m\u001b[K’\n",
      "   41 |   static long_number_t  output_acc[\u001b[01;36m\u001b[KCONV_OUTSAMPLES\u001b[m\u001b[K];\n",
      "      |                                    \u001b[01;36m\u001b[K^~~~~~~~~~~~~~~\u001b[m\u001b[K\n",
      "In file included from \u001b[01m\u001b[Kgsc_output_fixed/model.c:15\u001b[m\u001b[K:\n",
      "\u001b[01m\u001b[Kgsc_output_fixed/conv1d.c:46:7:\u001b[m\u001b[K \u001b[01;31m\u001b[Kerror: \u001b[m\u001b[K‘\u001b[01m\u001b[Koutput_acc\u001b[m\u001b[K’ was not declared in this scope\n",
      "   46 |       \u001b[01;31m\u001b[Koutput_acc\u001b[m\u001b[K[pos_x] = 0;\n",
      "      |       \u001b[01;31m\u001b[K^~~~~~~~~~\u001b[m\u001b[K\n",
      "\u001b[01m\u001b[Kgsc_output_fixed/conv1d.c:55:19:\u001b[m\u001b[K \u001b[01;31m\u001b[Kerror: \u001b[m\u001b[K‘\u001b[01m\u001b[Kinput\u001b[m\u001b[K’ was not declared in this scope; did you mean ‘\u001b[01m\u001b[Kinput_x\u001b[m\u001b[K’?\n",
      "   55 |             tmp = \u001b[01;31m\u001b[Kinput\u001b[m\u001b[K[z][input_x] * kernel[k][z][x];\n",
      "      |                   \u001b[01;31m\u001b[K^~~~~\u001b[m\u001b[K\n",
      "      |                   \u001b[32m\u001b[Kinput_x\u001b[m\u001b[K\n",
      "\u001b[01m\u001b[Kgsc_output_fixed/conv1d.c:55:39:\u001b[m\u001b[K \u001b[01;31m\u001b[Kerror: \u001b[m\u001b[K‘\u001b[01m\u001b[Kkernel\u001b[m\u001b[K’ was not declared in this scope; did you mean ‘\u001b[01m\u001b[Kkernel_mac\u001b[m\u001b[K’?\n",
      "   55 |             tmp = input[z][input_x] * \u001b[01;31m\u001b[Kkernel\u001b[m\u001b[K[k][z][x];\n",
      "      |                                       \u001b[01;31m\u001b[K^~~~~~\u001b[m\u001b[K\n",
      "      |                                       \u001b[32m\u001b[Kkernel_mac\u001b[m\u001b[K\n",
      "\u001b[01m\u001b[Kgsc_output_fixed/conv1d.c:63:47:\u001b[m\u001b[K \u001b[01;31m\u001b[Kerror: \u001b[m\u001b[K‘\u001b[01m\u001b[Kbias\u001b[m\u001b[K’ was not declared in this scope\n",
      "   63 |       output_acc[pos_x] = output_acc[pos_x] + \u001b[01;31m\u001b[Kbias\u001b[m\u001b[K[k];\n",
      "      |                                               \u001b[01;31m\u001b[K^~~~\u001b[m\u001b[K\n",
      "\u001b[01m\u001b[Kgsc_output_fixed/conv1d.c:72:11:\u001b[m\u001b[K \u001b[01;31m\u001b[Kerror: \u001b[m\u001b[K‘\u001b[01m\u001b[Koutput_acc\u001b[m\u001b[K’ was not declared in this scope\n",
      "   72 |       if (\u001b[01;31m\u001b[Koutput_acc\u001b[m\u001b[K[pos_x] < 0)\n",
      "      |           \u001b[01;31m\u001b[K^~~~~~~~~~\u001b[m\u001b[K\n",
      "\u001b[01m\u001b[Kgsc_output_fixed/conv1d.c:73:9:\u001b[m\u001b[K \u001b[01;31m\u001b[Kerror: \u001b[m\u001b[K‘\u001b[01m\u001b[Koutput\u001b[m\u001b[K’ was not declared in this scope\n",
      "   73 |         \u001b[01;31m\u001b[Koutput\u001b[m\u001b[K[k][pos_x] = 0;\n",
      "      |         \u001b[01;31m\u001b[K^~~~~~\u001b[m\u001b[K\n",
      "\u001b[01m\u001b[Kgsc_output_fixed/conv1d.c:75:9:\u001b[m\u001b[K \u001b[01;31m\u001b[Kerror: \u001b[m\u001b[K‘\u001b[01m\u001b[Koutput\u001b[m\u001b[K’ was not declared in this scope\n",
      "   75 |         \u001b[01;31m\u001b[Koutput\u001b[m\u001b[K[k][pos_x] = clamp_to_number_t(output_acc[pos_x]);\n",
      "      |         \u001b[01;31m\u001b[K^~~~~~\u001b[m\u001b[K\n",
      "\u001b[01m\u001b[Kgsc_output_fixed/model.c:\u001b[m\u001b[K In function ‘\u001b[01m\u001b[Kvoid cnn(const number_t (*)[129], number_t*)\u001b[m\u001b[K’:\n",
      "\u001b[01m\u001b[Kgsc_output_fixed/model.c:31:5:\u001b[m\u001b[K \u001b[01;31m\u001b[Kerror: \u001b[m\u001b[K‘\u001b[01m\u001b[Kconv1d_output_type\u001b[m\u001b[K’ does not name a type; did you mean ‘\u001b[01m\u001b[Kdense_output_type\u001b[m\u001b[K’?\n",
      "   31 |     \u001b[01;31m\u001b[Kconv1d_output_type\u001b[m\u001b[K conv1d_output;\n",
      "      |     \u001b[01;31m\u001b[K^~~~~~~~~~~~~~~~~~\u001b[m\u001b[K\n",
      "      |     \u001b[32m\u001b[Kdense_output_type\u001b[m\u001b[K\n",
      "\u001b[01m\u001b[Kgsc_output_fixed/model.c:62:18:\u001b[m\u001b[K \u001b[01;31m\u001b[Kerror: \u001b[m\u001b[K‘\u001b[01m\u001b[Kunion cnn(const number_t (*)[129], number_t*)::<unnamed>\u001b[m\u001b[K’ has no member named ‘\u001b[01m\u001b[Kconv1d_output\u001b[m\u001b[K’\n",
      "   62 |     activations1.\u001b[01;31m\u001b[Kconv1d_output\u001b[m\u001b[K\n",
      "      |                  \u001b[01;31m\u001b[K^~~~~~~~~~~~~\u001b[m\u001b[K\n",
      "\u001b[01m\u001b[Kgsc_output_fixed/model.c:67:18:\u001b[m\u001b[K \u001b[01;31m\u001b[Kerror: \u001b[m\u001b[K‘\u001b[01m\u001b[Kunion cnn(const number_t (*)[129], number_t*)::<unnamed>\u001b[m\u001b[K’ has no member named ‘\u001b[01m\u001b[Kconv1d_output\u001b[m\u001b[K’\n",
      "   67 |     activations1.\u001b[01;31m\u001b[Kconv1d_output\u001b[m\u001b[K,\n",
      "      |                  \u001b[01;31m\u001b[K^~~~~~~~~~~~~\u001b[m\u001b[K\n",
      "\u001b[01m\u001b[Kgsc_output_fixed/model.c:73:18:\u001b[m\u001b[K \u001b[01;35m\u001b[Kwarning: \u001b[m\u001b[Kleft operand of comma operator has no effect [\u001b[01;35m\u001b[K\u001b]8;;https://gcc.gnu.org/onlinedocs/gcc/Warning-Options.html#index-Wunused-value\u0007-Wunused-value\u001b]8;;\u0007\u001b[m\u001b[K]\n",
      "   73 |     \u001b[01;35m\u001b[Kactivations2.max_pooling1d_output\u001b[m\u001b[K,\n",
      "      |     \u001b[01;35m\u001b[K~~~~~~~~~~~~~^~~~~~~~~~~~~~~~~~~~\u001b[m\u001b[K\n"
     ]
    }
   ],
   "source": [
    "!g++ -Wall -Wextra -pedantic -Ofast -o gsc_fixed -I gsc_output_fixed/ gsc_output_fixed/model.c main.cpp"
   ]
  },
  {
   "cell_type": "code",
   "execution_count": null,
   "id": "e5f1a5b0-ad92-4a50-b902-020d5f4ff2db",
   "metadata": {},
   "outputs": [],
   "source": [
    "!./gsc_fixed x_test_gsc_250.csv y_test_gsc_250.csv"
   ]
  }
 ],
 "metadata": {
  "kernelspec": {
   "display_name": "Python 3 (ipykernel)",
   "language": "python",
   "name": "python3"
  },
  "language_info": {
   "codemirror_mode": {
    "name": "ipython",
    "version": 3
   },
   "file_extension": ".py",
   "mimetype": "text/x-python",
   "name": "python",
   "nbconvert_exporter": "python",
   "pygments_lexer": "ipython3",
   "version": "3.10.10"
  }
 },
 "nbformat": 4,
 "nbformat_minor": 5
}
